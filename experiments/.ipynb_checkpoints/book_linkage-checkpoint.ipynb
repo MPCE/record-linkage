{
 "cells": [
  {
   "cell_type": "markdown",
   "metadata": {},
   "source": [
    "# Book Linkage Tasks\n",
    "\n",
    "**Date:** 15/1/2019\n",
    "\n",
    "**Author:** Michael Falk\n",
    "\n",
    "The aim of this notebook is to close out one of the major record linkage tasks for *Mapping Print, Charting Enlightenment*. There are three sets of book data that need to be more thoroughly joined to the rest of the database:\n",
    "\n",
    "* **The 'List of banned books' (BNF Ms Fr 21928-9):** This lists banned titles and was used by book inspectors in eighteenth-century France to police the trade. Each item on the list must be assigned a `super_book_code`.\n",
    "* **The 'Bastille Register' (BNF Arsenal MS 10305):** This lists books found in the Bastille after it was stormed during the revolution. In principle it records information about particular editions, so each book in the list should be assigned a `book_code`.\n",
    "* **The MMF-2 database:** This is a bibliographic database of French fiction from the eighteenth century. It records every known edition of every French novel from the period 1700-1800. Each record in the database should therefore assigned a `book_code` in the wider *MPCE* architecture.\n",
    "\n",
    "The data has all be drawn from the databases and preprocessed in R, transforming a record linkage task into a deduplication task. For each of the three tasks above, a csv has been prepared. A model will be trained to detect which rows refer to the same book, based on as much of the available information as possible."
   ]
  },
  {
   "cell_type": "code",
   "execution_count": 1,
   "metadata": {},
   "outputs": [],
   "source": [
    "# Import main libraries\n",
    "import dedupe as dd\n",
    "import pandas as pd\n",
    "import os as os\n",
    "import time\n",
    "import numpy as np\n",
    "import random\n",
    "from dedupe_helper_functions import dedupe_initialise, run_deduper, save_clusters\n",
    "import json"
   ]
  },
  {
   "cell_type": "markdown",
   "metadata": {},
   "source": [
    "## Section 1: The List of Banned Books"
   ]
  },
  {
   "cell_type": "code",
   "execution_count": null,
   "metadata": {},
   "outputs": [],
   "source": [
    "# Cell 1.1 Set main paths\n",
    "\n",
    "# Root folder for banned books data\n",
    "bbr = \"banned_books_list/\"\n",
    "\n",
    "# Set paths\n",
    "bb_input = bbr + \"banned_books_list_dddata.csv\"\n",
    "bb_output = bbr + \"banned_books_deduped.csv\"\n",
    "bb_settings = bbr + \"banned_books_learned_settings\"\n",
    "bb_training = bbr + \"banned_books_training.json\""
   ]
  },
  {
   "cell_type": "code",
   "execution_count": null,
   "metadata": {},
   "outputs": [],
   "source": [
    "# Cell 1.2 Import data\n",
    "\n",
    "bb_df = pd.read_csv(bb_input, encoding = \"utf-8\")\n",
    "\n",
    "print(f'bb_df has {bb_df.shape[0]} rows and {bb_df.shape[1]} columns:\\n{\", \".join(list(bb_df))}\\n')\n",
    "print(f'{len(bb_df[pd.isnull(bb_df.super_book_code)])} books require super_book_codes.')"
   ]
  },
  {
   "cell_type": "code",
   "execution_count": null,
   "metadata": {},
   "outputs": [],
   "source": [
    "# Cell 1.3 Initialise deduper\n",
    "\n",
    "# Define the fields that the model will examine\n",
    "bb_fields = [\n",
    "    {'field':'super_book_title', 'type': 'String'},\n",
    "    {'field':'author_name', 'type': 'String', 'has missing':True}\n",
    "]\n",
    "\n",
    "# Create Dedupe object\n",
    "bb_model = dedupe_initialise(bb_df, bb_fields, training_file = bb_training)"
   ]
  },
  {
   "cell_type": "code",
   "execution_count": null,
   "metadata": {},
   "outputs": [],
   "source": [
    "# Cell 1.4 Label training pairs\n",
    "dd.consoleLabel(bb_model)"
   ]
  },
  {
   "cell_type": "code",
   "execution_count": null,
   "metadata": {},
   "outputs": [],
   "source": [
    "# Cell 1.5 Run the Deduper\n",
    "\n",
    "bb_model, matches = run_deduper(bb_model, bb_df, bb_settings, bb_training, recall_weight = 1.5)"
   ]
  },
  {
   "cell_type": "code",
   "execution_count": null,
   "metadata": {},
   "outputs": [],
   "source": [
    "# Save the results\n",
    "_ = save_clusters(matches, bb_df, bb_output)"
   ]
  },
  {
   "cell_type": "code",
   "execution_count": null,
   "metadata": {},
   "outputs": [],
   "source": [
    "bb_df[pd.notnull(bb_df.cluster) & pd.notnull(bb_df.ID)]"
   ]
  },
  {
   "cell_type": "markdown",
   "metadata": {},
   "source": [
    "## Section 2: The Bastille Register"
   ]
  },
  {
   "cell_type": "code",
   "execution_count": null,
   "metadata": {},
   "outputs": [],
   "source": [
    "# Cell 2.1 Paths and data\n",
    "\n",
    "# Root folder for banned books data\n",
    "basr = \"bastille_register/\"\n",
    "\n",
    "# Paths\n",
    "bas_input = basr + \"bastille_register_dddata.csv\"\n",
    "bas_output = basr + \"bas_reg_deduped.csv\"\n",
    "bas_settings = basr + \"bas_reg_learned_settings\"\n",
    "bas_training = basr + \"bas_reg_training.json\"\n",
    "\n",
    "# Data\n",
    "bas_df = pd.read_csv(bas_input, encoding = \"utf-8\")\n",
    "print(f'bas_df has {bas_df.shape[0]} rows and {bas_df.shape[1]} columns:\\n{\", \".join(list(bas_df))}\\n')\n",
    "print(f'{len(bas_df[pd.isnull(bas_df.book_code)])} books require book_codes.')"
   ]
  },
  {
   "cell_type": "code",
   "execution_count": null,
   "metadata": {},
   "outputs": [],
   "source": [
    "# Cell 2.2 Initialise Deduper\n",
    "\n",
    "# Fields that the model will examine\n",
    "bas_fields = [\n",
    "    {'field':'full_book_title', 'type': 'String'},\n",
    "    {'field':'author_name', 'type': 'String', 'has missing':True},\n",
    "    {'field':'stated_publication_years', 'type':'DateTime', 'has missing':True},\n",
    "    {'field':'stated_publication_places', 'type': 'String', 'has missing':True},\n",
    "]\n",
    "\n",
    "# Create Dedupe object\n",
    "bas_model = dedupe_initialise(bas_df, bas_fields, training_file = bas_training)"
   ]
  },
  {
   "cell_type": "code",
   "execution_count": null,
   "metadata": {},
   "outputs": [],
   "source": [
    "# Cell 2.3 Label tranining examples\n",
    "dd.consoleLabel(bas_model)"
   ]
  },
  {
   "cell_type": "markdown",
   "metadata": {},
   "source": [
    "The labelling in this instance was rough and difficult. There are so many editions, and so little information about them, that it is impossible to quickly establish a 'ground truth'. Indeed, it is impossible in many cases to establish a ground truth at all."
   ]
  },
  {
   "cell_type": "code",
   "execution_count": null,
   "metadata": {},
   "outputs": [],
   "source": [
    "_, matches = run_deduper(bas_model, bas_df, bas_settings, bas_training, recall_weight = 2)"
   ]
  },
  {
   "cell_type": "code",
   "execution_count": null,
   "metadata": {},
   "outputs": [],
   "source": [
    "_ = save_clusters(matches, bas_df, bas_output)"
   ]
  },
  {
   "cell_type": "markdown",
   "metadata": {},
   "source": [
    "## Section 3: The Big One (MMF-2)\n",
    "\n",
    "This section is only provisional, because at the time of writing I do not have Angus Martin's latest version of the MMF-2 database. But since he is largely working on books to 1720, it is unlikely that too many new editions from our other FBTEE datasets will be missing."
   ]
  },
  {
   "cell_type": "code",
   "execution_count": 2,
   "metadata": {},
   "outputs": [
    {
     "name": "stdout",
     "output_type": "stream",
     "text": [
      "bas_df has 10134 rows and 7 columns:\n",
      "ID, long_title, date, place, publisher, author_name, book_code\n",
      "\n",
      "9139 books require book_codes.\n"
     ]
    }
   ],
   "source": [
    "# Cell 3.1 Paths and data\n",
    "\n",
    "# Root folder for banned books data\n",
    "mmfr = \"mmf_2/\"\n",
    "\n",
    "# Paths\n",
    "mmf_input = mmfr + \"mmf_2_dddata.csv\"\n",
    "mmf_output = mmfr + \"mmf_deduped.csv\"\n",
    "mmf_settings = mmfr + \"mmf_settings\"\n",
    "mmf_training = mmfr + \"mmf_training.json\"\n",
    "\n",
    "# Data\n",
    "mmf_df = pd.read_csv(mmf_input, encoding = \"utf-8\")\n",
    "print(f'bas_df has {mmf_df.shape[0]} rows and {mmf_df.shape[1]} columns:\\n{\", \".join(list(mmf_df))}\\n')\n",
    "print(f'{len(mmf_df[pd.isnull(mmf_df.book_code)])} books require book_codes.')"
   ]
  },
  {
   "cell_type": "code",
   "execution_count": 3,
   "metadata": {
    "scrolled": false
   },
   "outputs": [
    {
     "name": "stdout",
     "output_type": "stream",
     "text": [
      "Initialising model for active learning.\n"
     ]
    },
    {
     "name": "stderr",
     "output_type": "stream",
     "text": [
      "INFO:dedupe.canopy_index:Removing stop word de\n",
      "INFO:dedupe.canopy_index:Removing stop word ou\n",
      "INFO:dedupe.canopy_index:Removing stop word par\n",
      "INFO:dedupe.canopy_index:Removing stop word et\n",
      "INFO:dedupe.canopy_index:Removing stop word des\n",
      "INFO:dedupe.canopy_index:Removing stop word du\n",
      "INFO:dedupe.canopy_index:Removing stop word  d\n",
      "INFO:dedupe.canopy_index:Removing stop word a \n",
      "INFO:dedupe.canopy_index:Removing stop word ce\n",
      "INFO:dedupe.canopy_index:Removing stop word e \n",
      "INFO:dedupe.canopy_index:Removing stop word il\n",
      "INFO:dedupe.canopy_index:Removing stop word lo\n",
      "INFO:dedupe.canopy_index:Removing stop word ne\n",
      "INFO:dedupe.canopy_index:Removing stop word ri\n",
      "INFO:dedupe.canopy_index:Removing stop word ss\n",
      "INFO:dedupe.canopy_index:Removing stop word  t\n",
      "INFO:dedupe.canopy_index:Removing stop word am\n",
      "INFO:dedupe.canopy_index:Removing stop word ie\n",
      "INFO:dedupe.canopy_index:Removing stop word mi\n",
      "INFO:dedupe.canopy_index:Removing stop word ti\n",
      "INFO:dedupe.canopy_index:Removing stop word  l\n",
      "INFO:dedupe.canopy_index:Removing stop word  o\n",
      "INFO:dedupe.canopy_index:Removing stop word Le\n",
      "INFO:dedupe.canopy_index:Removing stop word ar\n",
      "INFO:dedupe.canopy_index:Removing stop word ec\n",
      "INFO:dedupe.canopy_index:Removing stop word is\n",
      "INFO:dedupe.canopy_index:Removing stop word no\n",
      "INFO:dedupe.canopy_index:Removing stop word ou\n",
      "INFO:dedupe.canopy_index:Removing stop word s \n",
      "INFO:dedupe.canopy_index:Removing stop word ta\n",
      "INFO:dedupe.canopy_index:Removing stop word u \n",
      "INFO:dedupe.canopy_index:Removing stop word ur\n",
      "INFO:dedupe.canopy_index:Removing stop word  a\n",
      "INFO:dedupe.canopy_index:Removing stop word  e\n",
      "INFO:dedupe.canopy_index:Removing stop word  p\n",
      "INFO:dedupe.canopy_index:Removing stop word  é\n",
      "INFO:dedupe.canopy_index:Removing stop word an\n",
      "INFO:dedupe.canopy_index:Removing stop word co\n",
      "INFO:dedupe.canopy_index:Removing stop word di\n",
      "INFO:dedupe.canopy_index:Removing stop word et\n",
      "INFO:dedupe.canopy_index:Removing stop word la\n",
      "INFO:dedupe.canopy_index:Removing stop word n \n",
      "INFO:dedupe.canopy_index:Removing stop word or\n",
      "INFO:dedupe.canopy_index:Removing stop word pa\n",
      "INFO:dedupe.canopy_index:Removing stop word r \n",
      "INFO:dedupe.canopy_index:Removing stop word t \n",
      "INFO:dedupe.canopy_index:Removing stop word ée\n",
      "INFO:dedupe.canopy_index:Removing stop word  M\n",
      "INFO:dedupe.canopy_index:Removing stop word ad\n",
      "INFO:dedupe.canopy_index:Removing stop word al\n",
      "INFO:dedupe.canopy_index:Removing stop word du\n",
      "INFO:dedupe.canopy_index:Removing stop word em\n",
      "INFO:dedupe.canopy_index:Removing stop word er\n",
      "INFO:dedupe.canopy_index:Removing stop word ll\n",
      "INFO:dedupe.canopy_index:Removing stop word nt\n",
      "INFO:dedupe.canopy_index:Removing stop word re\n",
      "INFO:dedupe.canopy_index:Removing stop word st\n",
      "INFO:dedupe.canopy_index:Removing stop word ue\n",
      "INFO:dedupe.canopy_index:Removing stop word ve\n",
      "INFO:dedupe.canopy_index:Removing stop word  m\n",
      "INFO:dedupe.canopy_index:Removing stop word io\n",
      "INFO:dedupe.canopy_index:Removing stop word me\n",
      "INFO:dedupe.canopy_index:Removing stop word mo\n",
      "INFO:dedupe.canopy_index:Removing stop word ns\n",
      "INFO:dedupe.canopy_index:Removing stop word to\n",
      "INFO:dedupe.canopy_index:Removing stop word ge\n",
      "INFO:dedupe.canopy_index:Removing stop word ir\n",
      "INFO:dedupe.canopy_index:Removing stop word li\n",
      "INFO:dedupe.canopy_index:Removing stop word sa\n",
      "INFO:dedupe.canopy_index:Removing stop word un\n",
      "INFO:dedupe.canopy_index:Removing stop word qu\n",
      "INFO:dedupe.canopy_index:Removing stop word ro\n",
      "INFO:dedupe.canopy_index:Removing stop word ai\n",
      "INFO:dedupe.canopy_index:Removing stop word e \n"
     ]
    },
    {
     "name": "stdout",
     "output_type": "stream",
     "text": [
      "Model initialised without training data.\n"
     ]
    }
   ],
   "source": [
    "# Cell 2.2 Initialise Deduper\n",
    "\n",
    "# Need to do some light preprocessing on the date column\n",
    "mmf_df['date'] = mmf_df.date.astype(str).str.replace(\"\\.0\", \"\")\n",
    "\n",
    "# Fields that the model will examine\n",
    "mmf_fields = [\n",
    "    {'field':'long_title', 'type':'String'},\n",
    "    {'field':'publisher', 'type':'String', 'has missing':True},\n",
    "    {'field':'place', 'type':'String', 'has missing':True},\n",
    "    {'field':'date', 'type':'DateTime', 'has missing':True},\n",
    "    {'field':'author_name', 'type':'String', 'has missing':True}\n",
    "]\n",
    "\n",
    "# Create Dedupe object\n",
    "mmf_model = dedupe_initialise(mmf_df, mmf_fields)"
   ]
  },
  {
   "cell_type": "code",
   "execution_count": 4,
   "metadata": {},
   "outputs": [
    {
     "name": "stderr",
     "output_type": "stream",
     "text": [
      "long_title : None\n",
      "publisher : aux dépens de la Compagnie\n",
      "place : Mayence & Francfort\n",
      "date : 1766\n",
      "author_name : NA, NA\n",
      "\n",
      "long_title : Clary\n",
      "publisher : aux dpens de la Compagnie\n",
      "place : Francfort\n",
      "date : 1768\n",
      "author_name : NA, NA\n",
      "\n",
      "0/10 positive, 0/10 negative\n",
      "Do these records refer to the same thing?\n",
      "(y)es / (n)o / (u)nsure / (f)inished\n"
     ]
    },
    {
     "name": "stdout",
     "output_type": "stream",
     "text": [
      "n\n"
     ]
    },
    {
     "name": "stderr",
     "output_type": "stream",
     "text": [
      "long_title : Memoires d'un honnête-homme, revûs, corrigés, augmentés d'un second volume et imprimés sur un nouveau manuscrit de l'auteur, publié par M. de M***\n",
      "publisher : Georg Conrad Walther\n",
      "place : Dresde\n",
      "date : 1753\n",
      "author_name : Prévost, abbé Antoine-François\n",
      "\n",
      "long_title : Lettres angloises\n",
      "publisher : George Conrad WALTHER\n",
      "place : Dresde\n",
      "date : 1764\n",
      "author_name : Richardson, Samuel\n",
      "\n",
      "0/10 positive, 1/10 negative\n",
      "Do these records refer to the same thing?\n",
      "(y)es / (n)o / (u)nsure / (f)inished / (p)revious\n"
     ]
    },
    {
     "name": "stdout",
     "output_type": "stream",
     "text": [
      "n\n"
     ]
    },
    {
     "name": "stderr",
     "output_type": "stream",
     "text": [
      "long_title : Contes nouveaux en prose\n",
      "publisher : None\n",
      "place : S. l.\n",
      "date : 1785\n",
      "author_name : Imbert, Barthélemy  Charles-Joseph de MAYER et dautres\n",
      "\n",
      "long_title : Daira, histoire orientale\n",
      "publisher : None\n",
      "place : None\n",
      "date : nan\n",
      "author_name : Le Riche de la Pouplinière, Alexandre Jean Joseph\n",
      "\n",
      "0/10 positive, 2/10 negative\n",
      "Do these records refer to the same thing?\n",
      "(y)es / (n)o / (u)nsure / (f)inished / (p)revious\n"
     ]
    },
    {
     "name": "stdout",
     "output_type": "stream",
     "text": [
      "n\n"
     ]
    },
    {
     "name": "stderr",
     "output_type": "stream",
     "text": [
      "long_title : Dialogue entre le diable boiteux et le diable borgne, par M. Le Noble\n",
      "publisher : Pierre RIBOU\n",
      "place : Paris\n",
      "date : 1707\n",
      "author_name : Lenoble, Eustache\n",
      "\n",
      "long_title : Histoire de Gil Blas de Santillane, nouvelle édition revue et corrigée\n",
      "publisher : C. NOURSE\n",
      "place : Londres\n",
      "date : 1788\n",
      "author_name : Lesage, Alain-René\n",
      "\n",
      "0/10 positive, 3/10 negative\n",
      "Do these records refer to the same thing?\n",
      "(y)es / (n)o / (u)nsure / (f)inished / (p)revious\n"
     ]
    },
    {
     "name": "stdout",
     "output_type": "stream",
     "text": [
      "n\n"
     ]
    },
    {
     "name": "stderr",
     "output_type": "stream",
     "text": [
      "long_title : Histoire de Gil Blas de Santillane, par M. Le Sage, quatrième edition\n",
      "publisher : la veuve RIBOU\n",
      "place : Paris\n",
      "date : 1732\n",
      "author_name : Lesage, Alain-René\n",
      "\n",
      "long_title : Nouvelle (la) Académie des dames, ou histoire de Mlle B*** D. C. D. L.\n",
      "publisher : None\n",
      "place : n.pl.\n",
      "date : nan\n",
      "author_name : None\n",
      "\n",
      "0/10 positive, 4/10 negative\n",
      "Do these records refer to the same thing?\n",
      "(y)es / (n)o / (u)nsure / (f)inished / (p)revious\n"
     ]
    },
    {
     "name": "stdout",
     "output_type": "stream",
     "text": [
      "n\n"
     ]
    },
    {
     "name": "stderr",
     "output_type": "stream",
     "text": [
      "long_title : Tableaux de la bonne compagnie ou traits caractéristiques, anecdotes secretes, politiques, morales & littéraires, recueillies dans les sociétés du bon ton pendant les années 1786 & 1787, édition accompagnée de planches par Moreau le jeune\n",
      "publisher : None\n",
      "place : Paris\n",
      "date : 1787\n",
      "author_name : Ligne, Charles-Joseph  7e Prince de\n",
      "\n",
      "long_title : Tableaux de la bonne compagnie, ou Traits caractéristiques, anecdotes secrètes, politiques, morales et littéraires, recueillies dans les sociétés du bon ton, pendant les années 1786 et 1787\n",
      "publisher : None\n",
      "place : n.pl.\n",
      "date : nan\n",
      "author_name : Restif de la Bretonne, Nicolas-Edmé\n",
      "\n",
      "0/10 positive, 5/10 negative\n",
      "Do these records refer to the same thing?\n",
      "(y)es / (n)o / (u)nsure / (f)inished / (p)revious\n"
     ]
    },
    {
     "name": "stdout",
     "output_type": "stream",
     "text": [
      "n\n"
     ]
    },
    {
     "name": "stderr",
     "output_type": "stream",
     "text": [
      "long_title : La fidélité couronnée ou l'histoire de Parmenide prince de Macedoine\n",
      "publisher : Antoine CLAUDINOT\n",
      "place : Bruxelles\n",
      "date : 1707\n",
      "author_name : LE COQ-MADELEINE, NA\n",
      "\n",
      "long_title : Lettres à myladi * ** et autres oeuvres mêlées tant en prose qu'en vers par M. de La Place\n",
      "publisher : J. L. de BOUBERS\n",
      "place : Bruxelles\n",
      "date : 1773\n",
      "author_name : La place, Pierre-Antoine de\n",
      "\n",
      "0/10 positive, 6/10 negative\n",
      "Do these records refer to the same thing?\n",
      "(y)es / (n)o / (u)nsure / (f)inished / (p)revious\n"
     ]
    },
    {
     "name": "stdout",
     "output_type": "stream",
     "text": [
      "n\n"
     ]
    },
    {
     "name": "stderr",
     "output_type": "stream",
     "text": [
      "long_title : Œuvres diverses de M. de Fontenelle de l'Academie fran çoise, qui contient Les nouveaux dialogues des morts, le Jugement de Pluton sur les deux parties des dialogues des morts\n",
      "publisher : Pierre MORTIER\n",
      "place : Amsterdam\n",
      "date : 1701\n",
      "author_name : Fontenelle, Bernard Le Bouyer de\n",
      "\n",
      "long_title : Les contes des génies\n",
      "publisher : Marc Michel REY\n",
      "place : Amsterdam\n",
      "date : 1786\n",
      "author_name : NA, NA\n",
      "\n",
      "0/10 positive, 7/10 negative\n",
      "Do these records refer to the same thing?\n",
      "(y)es / (n)o / (u)nsure / (f)inished / (p)revious\n"
     ]
    },
    {
     "name": "stdout",
     "output_type": "stream",
     "text": [
      "n\n"
     ]
    },
    {
     "name": "stderr",
     "output_type": "stream",
     "text": [
      "long_title : Numa Pompilius\n",
      "publisher : Didot\n",
      "place : Paris\n",
      "date : 1786\n",
      "author_name : NA, NA\n",
      "\n",
      "long_title : Mémoires d'une femme de chambre, trad. de l'anglois\n",
      "publisher : None\n",
      "place : n.pl.\n",
      "date : 1786\n",
      "author_name : None\n",
      "\n",
      "0/10 positive, 8/10 negative\n",
      "Do these records refer to the same thing?\n",
      "(y)es / (n)o / (u)nsure / (f)inished / (p)revious\n"
     ]
    },
    {
     "name": "stdout",
     "output_type": "stream",
     "text": [
      "n\n"
     ]
    },
    {
     "name": "stderr",
     "output_type": "stream",
     "text": [
      "long_title : Les moeurs du jour\n",
      "publisher : Changuion\n",
      "place : Amsterdam\n",
      "date : 1785\n",
      "author_name : NA, NA\n",
      "\n",
      "long_title : Belisaire par M. Marmontel de l’academie francoise; non miror si quando impetum capit (deus) spectandi magnos viros, colluctantes cum aliqua clamitate Senec. de Prov:\n",
      "publisher : None\n",
      "place : Neuchâtel\n",
      "date : 1667\n",
      "author_name : Marmontel, Jean-François\n",
      "\n",
      "0/10 positive, 9/10 negative\n",
      "Do these records refer to the same thing?\n",
      "(y)es / (n)o / (u)nsure / (f)inished / (p)revious\n"
     ]
    },
    {
     "name": "stdout",
     "output_type": "stream",
     "text": [
      "n\n"
     ]
    },
    {
     "name": "stderr",
     "output_type": "stream",
     "text": [
      "long_title : Lettres de deux amans habitans d'une Petite ville au pied des alpes par J. J. Rousseau\n",
      "publisher : Marc Michel Rey\n",
      "place : Amsterdam\n",
      "date : 1776\n",
      "author_name : Rousseau, Jean Jacques\n",
      "\n",
      "long_title : Lettres de deux amans habitans d'une Petite ville au pied des alpes par J. J. Rousseau nouvelle edition augmentée avec figures\n",
      "publisher : Marc Michel Rey\n",
      "place : Amsterdam\n",
      "date : nan\n",
      "author_name : Rousseau, Jean Jacques\n",
      "\n",
      "0/10 positive, 10/10 negative\n",
      "Do these records refer to the same thing?\n",
      "(y)es / (n)o / (u)nsure / (f)inished / (p)revious\n"
     ]
    },
    {
     "name": "stdout",
     "output_type": "stream",
     "text": [
      "n\n"
     ]
    },
    {
     "name": "stderr",
     "output_type": "stream",
     "text": [
      "long_title : Annales de la cour et de Paris pour les années 1697 et 1698\n",
      "publisher : Pierre MARTEAU\n",
      "place : Cologne\n",
      "date : 1701\n",
      "author_name : Sandras de courtilz, Gatien de\n",
      "\n",
      "long_title : Répertoire anglois ou recueil de littérature, d'histoires et d'anecdotes angloises\n",
      "publisher : Knapen, #VEUVE DELAGUETTE\n",
      "place : Paris\n",
      "date : 1789\n",
      "author_name : Chomel de saint-ange, Antoine-Angélique\n",
      "\n",
      "0/10 positive, 11/10 negative\n",
      "Do these records refer to the same thing?\n",
      "(y)es / (n)o / (u)nsure / (f)inished / (p)revious\n"
     ]
    },
    {
     "name": "stdout",
     "output_type": "stream",
     "text": [
      "n\n"
     ]
    },
    {
     "name": "stderr",
     "output_type": "stream",
     "text": [
      "long_title : Isène et Isménias, roman grec\n",
      "publisher : imprimerie de DIDOT AINÉ\n",
      "place : Paris\n",
      "date : 1790\n",
      "author_name : EUSTATHE MACREMBOLITE, NA\n",
      "\n",
      "long_title : Voyage du jeune Anacharsis en Grèce\n",
      "publisher : None\n",
      "place : n.pl.\n",
      "date : nan\n",
      "author_name : Barthélemy, Jean-Jacques\n",
      "\n",
      "0/10 positive, 12/10 negative\n",
      "Do these records refer to the same thing?\n",
      "(y)es / (n)o / (u)nsure / (f)inished / (p)revious\n"
     ]
    },
    {
     "name": "stdout",
     "output_type": "stream",
     "text": [
      "n\n"
     ]
    },
    {
     "name": "stderr",
     "output_type": "stream",
     "text": [
      "long_title : La vie de Chimene Spinelli, histoire veritable par M. le chevalier de Mouhy\n",
      "publisher : Ribou\n",
      "place : Paris\n",
      "date : 1738\n",
      "author_name : Mouhy, Charles de Fieux  chevalier de\n",
      "\n",
      "long_title : Dévotions (les) Mme Betzhamooth et les pieuses facéties de M. de St. Oignon\n",
      "publisher : None\n",
      "place : n.pl.\n",
      "date : nan\n",
      "author_name : Duvernet, Théophile-Imarigeon\n",
      "\n",
      "0/10 positive, 13/10 negative\n",
      "Do these records refer to the same thing?\n",
      "(y)es / (n)o / (u)nsure / (f)inished / (p)revious\n"
     ]
    },
    {
     "name": "stdout",
     "output_type": "stream",
     "text": [
      "n\n"
     ]
    },
    {
     "name": "stderr",
     "output_type": "stream",
     "text": [
      "long_title : Les partisans démasquez, nouvelle plus que galante, divisé en quatre parties\n",
      "publisher : Adrien L'ENCLUME, GENDRE DE PIERRE \n",
      "place : Cologne\n",
      "date : 1707\n",
      "author_name : NA, NA\n",
      "\n",
      "long_title : Voyage philosophiqueau Japon\n",
      "publisher : dans les jardins de M. LEbahi\n",
      "place : Pressure\n",
      "date : 1788\n",
      "author_name : NA, NA\n",
      "\n",
      "0/10 positive, 14/10 negative\n",
      "Do these records refer to the same thing?\n",
      "(y)es / (n)o / (u)nsure / (f)inished / (p)revious\n"
     ]
    },
    {
     "name": "stdout",
     "output_type": "stream",
     "text": [
      "n\n"
     ]
    },
    {
     "name": "stderr",
     "output_type": "stream",
     "text": [
      "long_title : Memoires de Wuillame-Nortingham ou le faux lord Kington\n",
      "publisher : Pierre GOSSE\n",
      "place : La Haye\n",
      "date : 1741\n",
      "author_name : Bourdot de richebourg, Claude-Étienne\n",
      "\n",
      "long_title : Tanzai et Néadarné, histoire japonoise\n",
      "publisher : None\n",
      "place : None\n",
      "date : nan\n",
      "author_name : Crébillon, Claude Prosper Jolyot de\n",
      "\n",
      "0/10 positive, 15/10 negative\n",
      "Do these records refer to the same thing?\n",
      "(y)es / (n)o / (u)nsure / (f)inished / (p)revious\n"
     ]
    },
    {
     "name": "stdout",
     "output_type": "stream",
     "text": [
      "n\n"
     ]
    },
    {
     "name": "stderr",
     "output_type": "stream",
     "text": [
      "long_title : Les cent nouvelles nouvelles, suivent les cent nouvelles contenant les cent histoires nouveaux [sic] qui sont moult plaisans à raconter en toutes bonnes compagnies par manière de joyeuseté, avec d'excellentes figures en taille-douce, gravées sur les desseins du fameux Mr. Romain de Hoog\n",
      "publisher : Pierre GAILLARD\n",
      "place : Cologne\n",
      "date : 1701\n",
      "author_name : NA, NA\n",
      "\n",
      "long_title : La vie de Frédéric, baron de Trenck\n",
      "publisher : C. LAMORT, & PARIS, BELIN\n",
      "place : Metz\n",
      "date : 1787\n",
      "author_name : NA, NA\n",
      "\n",
      "0/10 positive, 16/10 negative\n",
      "Do these records refer to the same thing?\n",
      "(y)es / (n)o / (u)nsure / (f)inished / (p)revious\n"
     ]
    },
    {
     "name": "stdout",
     "output_type": "stream",
     "text": [
      "n\n"
     ]
    },
    {
     "name": "stderr",
     "output_type": "stream",
     "text": [
      "long_title : Mémoires du comte de Rantzow ou les heures de récréation à l'usage de la noblesse de l'Europe\n",
      "publisher : Pierre MORTIER\n",
      "place : Amsterdam\n",
      "date : 1741\n",
      "author_name : Rantzau, Graf Jo%%rgen Ludvig Albrecht ? IF RANTZAU IS BOTH AUTHOR AND HERO THE TEXT SHOULD NOT BE\n",
      "\n",
      "long_title : Voyage sentimental par M. Sterne sous le nom d'Yorick traduit de l'anglois par M. Frenois\n",
      "publisher : S. Fauche\n",
      "place : Neuchâtel\n",
      "date : nan\n",
      "author_name : Sterne, Laurence\n",
      "\n",
      "0/10 positive, 17/10 negative\n",
      "Do these records refer to the same thing?\n",
      "(y)es / (n)o / (u)nsure / (f)inished / (p)revious\n"
     ]
    },
    {
     "name": "stdout",
     "output_type": "stream",
     "text": [
      "n\n"
     ]
    },
    {
     "name": "stderr",
     "output_type": "stream",
     "text": [
      "long_title : Les métamorphoses d'Ovide, avec des exmplications à la fin de chaque fable, traduction nouvelle par M. l'abbé de Bellegarde\n",
      "publisher : Michel DAVID\n",
      "place : Paris\n",
      "date : 1701\n",
      "author_name : OVIDE, NA\n",
      "\n",
      "long_title : L'anneau ou Jemima Gusman, nouvelle par une jeune dame, traduction libre de l'anglois\n",
      "publisher : Letellier\n",
      "place : Paris\n",
      "date : 1789\n",
      "author_name : ?, NA\n",
      "\n",
      "0/10 positive, 18/10 negative\n",
      "Do these records refer to the same thing?\n",
      "(y)es / (n)o / (u)nsure / (f)inished / (p)revious\n"
     ]
    },
    {
     "name": "stdout",
     "output_type": "stream",
     "text": [
      "n\n"
     ]
    },
    {
     "name": "stderr",
     "output_type": "stream",
     "text": [
      "long_title : Hiacynte ou le marquis de Celtas Dirorgo, nouvelle espagnole, ouvrage rempli d'événemens singuliers, curieux et remarquables\n",
      "publisher : BIENVENU\n",
      "place : Paris\n",
      "date : 1732\n",
      "author_name : NA, NA\n",
      "\n",
      "long_title : Anne Bell\n",
      "publisher : Le Jay\n",
      "place : Paris\n",
      "date : 1788\n",
      "author_name : NA, NA\n",
      "\n",
      "0/10 positive, 19/10 negative\n",
      "Do these records refer to the same thing?\n",
      "(y)es / (n)o / (u)nsure / (f)inished / (p)revious\n"
     ]
    },
    {
     "name": "stdout",
     "output_type": "stream",
     "text": [
      "n\n"
     ]
    },
    {
     "name": "stderr",
     "output_type": "stream",
     "text": [
      "long_title : Aristide, par M.l'abbé Duval-Pyrau, conseiller de la cour de S. A. S. Monseigneur le landgrave & prince de Hesse-Hombourg & membre de plusieurs académies & sociétés littéraires\n",
      "publisher : imprimerie de la Société littér.& typog.\n",
      "place : Yverdon\n",
      "date : 1777\n",
      "author_name : Duval-pyrau, l'abbé\n",
      "\n",
      "long_title : Tom Jones, ou l'enfant trouvé  imitation de l'anglais de M. Fielding, par M. de La Place\n",
      "publisher : None\n",
      "place : Londres\n",
      "date : 1777\n",
      "author_name : Fielding, Henry\n",
      "\n",
      "0/10 positive, 20/10 negative\n",
      "Do these records refer to the same thing?\n",
      "(y)es / (n)o / (u)nsure / (f)inished / (p)revious\n"
     ]
    },
    {
     "name": "stdout",
     "output_type": "stream",
     "text": [
      "n\n"
     ]
    },
    {
     "name": "stderr",
     "output_type": "stream",
     "text": [
      "long_title : Le Jésuite misopogon séraphique ou l'ennemi de la barbe des Capucins par l'alguasil Dom-Diego Balayas y Caramuera\n",
      "publisher : None\n",
      "place : Naples\n",
      "date : 1762\n",
      "author_name : Taupin d'orval, Jean-Louis-Claude\n",
      "\n",
      "long_title : Heureux (les) orphelins, imité de l'anglais\n",
      "publisher : None\n",
      "place : None\n",
      "date : nan\n",
      "author_name : Crébillon, Claude Prosper Jolyot de\n",
      "\n",
      "0/10 positive, 21/10 negative\n",
      "Do these records refer to the same thing?\n",
      "(y)es / (n)o / (u)nsure / (f)inished / (p)revious\n"
     ]
    },
    {
     "name": "stdout",
     "output_type": "stream",
     "text": [
      "n\n"
     ]
    },
    {
     "name": "stderr",
     "output_type": "stream",
     "text": [
      "long_title : Angélique ou la religieuse selon le coeur de Dieu, par le R. P. Michel-Ange Marin, de l'ordre des Minimes\n",
      "publisher : J.J. NIEL\n",
      "place : Avignon\n",
      "date : 1766\n",
      "author_name : Marin, le père Michel-Ange\n",
      "\n",
      "long_title : Esprit (l') de Julie, ou Extrait de \"La Nouvelle Héloïse\", ouvrage utile à la société et particulièrement à la jeunesse, par M. Formey\n",
      "publisher : J. Jasperd\n",
      "place : Berlin\n",
      "date : nan\n",
      "author_name : Formey, Jean Henri Samuel\n",
      "\n",
      "0/10 positive, 22/10 negative\n",
      "Do these records refer to the same thing?\n",
      "(y)es / (n)o / (u)nsure / (f)inished / (p)revious\n"
     ]
    },
    {
     "name": "stdout",
     "output_type": "stream",
     "text": [
      "n\n"
     ]
    },
    {
     "name": "stderr",
     "output_type": "stream",
     "text": [
      "long_title : Contes moraux\n",
      "publisher : Schneider\n",
      "place : Nürnberg\n",
      "date : 1789\n",
      "author_name : NA, NA\n",
      "\n",
      "long_title : Contes moraux\n",
      "publisher : Bonducci & Lyon, FRÈRES PÉRISSE\n",
      "place : Florence\n",
      "date : 1789\n",
      "author_name : NA, NA\n",
      "\n",
      "0/10 positive, 23/10 negative\n",
      "Do these records refer to the same thing?\n",
      "(y)es / (n)o / (u)nsure / (f)inished / (p)revious\n"
     ]
    },
    {
     "name": "stdout",
     "output_type": "stream",
     "text": [
      "n\n"
     ]
    },
    {
     "name": "stderr",
     "output_type": "stream",
     "text": [
      "long_title : L'heureux chanoine de Rome, nouvelle galante, ou la resurrection prédestinée, contenant diverses avantures agréables et divertissantes arrivées du tems du ministere de Mr. Fouquet, sur-intendant des finances de France, dedié a son Altesse roiale, madame la duchesse de Lorraine\n",
      "publisher : Michel BRUNET\n",
      "place : Paris\n",
      "date : 1707\n",
      "author_name : NA, NA\n",
      "\n",
      "long_title : Les amours de milord Bomston ds La nouvelle H[loise, 6\n",
      "publisher : None\n",
      "place : Genève\n",
      "date : 1783\n",
      "author_name : NA, NA\n",
      "\n",
      "0/10 positive, 24/10 negative\n",
      "Do these records refer to the same thing?\n",
      "(y)es / (n)o / (u)nsure / (f)inished / (p)revious\n"
     ]
    },
    {
     "name": "stdout",
     "output_type": "stream",
     "text": [
      "n\n"
     ]
    },
    {
     "name": "stderr",
     "output_type": "stream",
     "text": [
      "long_title : Histoire du chevalier Des Grieux et de Manon Lescaut\n",
      "publisher : aux dépens de la COMPAGNIE\n",
      "place : Amsterdam\n",
      "date : 1753\n",
      "author_name : Prévost, abbé Antoine-François\n",
      "\n",
      "long_title : Eloge (l') de la folie, traduit du latin d'Erasme\n",
      "publisher : None\n",
      "place : None\n",
      "date : 1771\n",
      "author_name : Erasmus, Desiderius\n",
      "\n",
      "0/10 positive, 25/10 negative\n",
      "Do these records refer to the same thing?\n",
      "(y)es / (n)o / (u)nsure / (f)inished / (p)revious\n"
     ]
    },
    {
     "name": "stdout",
     "output_type": "stream",
     "text": [
      "n\n"
     ]
    },
    {
     "name": "stderr",
     "output_type": "stream",
     "text": [
      "long_title : Memoires et avantures d'un homme de qualité qui s'est retiré du monde\n",
      "publisher : M. G. Merville; J. Vander Kloot\n",
      "place : La Haye\n",
      "date : 1778\n",
      "author_name : Prévost, Antoine François\n",
      "\n",
      "long_title : Memoires et avantures d'un homme de qualité qui s'est retiré du monde\n",
      "publisher : None\n",
      "place : None\n",
      "date : nan\n",
      "author_name : Prévost, Antoine François\n",
      "\n",
      "0/10 positive, 26/10 negative\n",
      "Do these records refer to the same thing?\n",
      "(y)es / (n)o / (u)nsure / (f)inished / (p)revious\n"
     ]
    },
    {
     "name": "stdout",
     "output_type": "stream",
     "text": [
      "n\n"
     ]
    },
    {
     "name": "stderr",
     "output_type": "stream",
     "text": [
      "long_title : Contes moraux\n",
      "publisher : None\n",
      "place : Amsterdam\n",
      "date : 1780\n",
      "author_name : NA, NA\n",
      "\n",
      "long_title : Contes moraux, ou les hommes comme il y en a peu\n",
      "publisher : None\n",
      "place : n.pl.\n",
      "date : nan\n",
      "author_name : None\n",
      "\n",
      "0/10 positive, 27/10 negative\n",
      "Do these records refer to the same thing?\n",
      "(y)es / (n)o / (u)nsure / (f)inished / (p)revious\n"
     ]
    },
    {
     "name": "stdout",
     "output_type": "stream",
     "text": [
      "n\n"
     ]
    },
    {
     "name": "stderr",
     "output_type": "stream",
     "text": [
      "long_title : Magazin des enfans ou dialogues entre uje sage gouvernante et plusieurs de ses élèves de la premiére distinction\n",
      "publisher : chez H. CHAMBERLAINE\n",
      "place : Dublin\n",
      "date : 1788\n",
      "author_name : NA, NA\n",
      "\n",
      "long_title : Léonard et Gertrude, ou les moeurs villageoises telles qu'on les retrouve à la ville et à la cour\n",
      "publisher : G. Gabriel Décombaz\n",
      "place : Lausanne\n",
      "date : nan\n",
      "author_name : Pestalozzi, Henri\n",
      "\n",
      "0/10 positive, 28/10 negative\n",
      "Do these records refer to the same thing?\n",
      "(y)es / (n)o / (u)nsure / (f)inished / (p)revious\n"
     ]
    },
    {
     "name": "stdout",
     "output_type": "stream",
     "text": [
      "n\n"
     ]
    },
    {
     "name": "stderr",
     "output_type": "stream",
     "text": [
      "long_title : Mon bonnet de nuit\n",
      "publisher : None\n",
      "place : Amsterdam\n",
      "date : 1784\n",
      "author_name : NA, NA\n",
      "\n",
      "long_title : Mon bonnet de nuit\n",
      "publisher : None\n",
      "place : Neuchatel\n",
      "date : 1784\n",
      "author_name : NA, NA\n",
      "\n",
      "0/10 positive, 29/10 negative\n",
      "Do these records refer to the same thing?\n",
      "(y)es / (n)o / (u)nsure / (f)inished / (p)revious\n"
     ]
    },
    {
     "name": "stdout",
     "output_type": "stream",
     "text": [
      "n\n"
     ]
    },
    {
     "name": "stderr",
     "output_type": "stream",
     "text": [
      "long_title : Contes moraux \u0001 /...\u0001/, avec une Apologie du théâtre \u0001\n",
      "publisher : J. MERLIN\n",
      "place : Paris\n",
      "date : 1781\n",
      "author_name : Marmontel, Jean-François \u0001\n",
      "\n",
      "long_title : Félicia, ou Mes fredaines\n",
      "publisher : None\n",
      "place : Paris\n",
      "date : nan\n",
      "author_name : Andréa de Nerciat, André-Robert\n",
      "\n",
      "0/10 positive, 30/10 negative\n",
      "Do these records refer to the same thing?\n",
      "(y)es / (n)o / (u)nsure / (f)inished / (p)revious\n"
     ]
    },
    {
     "name": "stdout",
     "output_type": "stream",
     "text": [
      "n\n"
     ]
    },
    {
     "name": "stderr",
     "output_type": "stream",
     "text": [
      "long_title : Mémoires et avantures d'un homme de qualité qui s'est retiré du monde\n",
      "publisher : None\n",
      "place : n.pl.\n",
      "date : nan\n",
      "author_name : Prévost, Antoine François\n",
      "\n",
      "long_title : Memoires et avantures d'un homme de qualité qui s'est retiré du monde\n",
      "publisher : None\n",
      "place : None\n",
      "date : nan\n",
      "author_name : Prévost, Antoine François\n",
      "\n",
      "0/10 positive, 31/10 negative\n",
      "Do these records refer to the same thing?\n",
      "(y)es / (n)o / (u)nsure / (f)inished / (p)revious\n"
     ]
    },
    {
     "name": "stdout",
     "output_type": "stream",
     "text": [
      "y\n"
     ]
    },
    {
     "name": "stderr",
     "output_type": "stream",
     "text": [
      "long_title : Les sacrifices de lamour\n",
      "publisher : Delalain\n",
      "place : Paris\n",
      "date : 1783\n",
      "author_name : NA, NA\n",
      "\n",
      "long_title : Aventures de Lazarille de Tormes\n",
      "publisher : None\n",
      "place : n.pl.\n",
      "date : nan\n",
      "author_name : None\n",
      "\n",
      "1/10 positive, 31/10 negative\n",
      "Do these records refer to the same thing?\n",
      "(y)es / (n)o / (u)nsure / (f)inished / (p)revious\n"
     ]
    },
    {
     "name": "stdout",
     "output_type": "stream",
     "text": [
      "n\n"
     ]
    },
    {
     "name": "stderr",
     "output_type": "stream",
     "text": [
      "INFO:dedupe.training:Final predicate set:\n",
      "INFO:dedupe.training:(SimplePredicate: (doubleMetaphone, long_title), SimplePredicate: (wholeFieldPredicate, date))\n",
      "long_title : Les Incas\n",
      "publisher : Lacombe\n",
      "place : Paris\n",
      "date : 1777\n",
      "author_name : NA, NA\n",
      "\n",
      "long_title : Les Incas\n",
      "publisher : E. van Harrevelt\n",
      "place : Amsterdam\n",
      "date : 1777\n",
      "author_name : NA, NA\n",
      "\n",
      "1/10 positive, 32/10 negative\n",
      "Do these records refer to the same thing?\n",
      "(y)es / (n)o / (u)nsure / (f)inished / (p)revious\n"
     ]
    },
    {
     "name": "stdout",
     "output_type": "stream",
     "text": [
      "n\n"
     ]
    },
    {
     "name": "stderr",
     "output_type": "stream",
     "text": [
      "long_title : Les conversations d'Emilie|\n",
      "publisher : François Lacombe\n",
      "place : Lausanne\n",
      "date : 1784\n",
      "author_name : NA, NA\n",
      "\n",
      "long_title : Les conversations d'Emilie|\n",
      "publisher : None\n",
      "place : Paris & Maestricht\n",
      "date : 1784\n",
      "author_name : NA, NA\n",
      "\n",
      "1/10 positive, 33/10 negative\n",
      "Do these records refer to the same thing?\n",
      "(y)es / (n)o / (u)nsure / (f)inished / (p)revious\n"
     ]
    },
    {
     "name": "stdout",
     "output_type": "stream",
     "text": [
      "n\n"
     ]
    },
    {
     "name": "stderr",
     "output_type": "stream",
     "text": [
      "long_title : Estelle ds Oeuvres\n",
      "publisher : None\n",
      "place : Genève\n",
      "date : 1788\n",
      "author_name : NA, NA\n",
      "\n",
      "long_title : Estelle ds OEuvres\n",
      "publisher : None\n",
      "place : Genève\n",
      "date : 1788\n",
      "author_name : NA, NA\n",
      "\n",
      "1/10 positive, 34/10 negative\n",
      "Do these records refer to the same thing?\n",
      "(y)es / (n)o / (u)nsure / (f)inished / (p)revious\n"
     ]
    },
    {
     "name": "stdout",
     "output_type": "stream",
     "text": [
      "y\n"
     ]
    },
    {
     "name": "stderr",
     "output_type": "stream",
     "text": [
      "long_title : Lettres de deux amans, habitans d'une petite ville au pied des Alpes, recueillies et publiées par J.-J. Rousseau, nouvelle édition augmentée, avec figures\n",
      "publisher : Marc Michel Rey\n",
      "place : Amsterdam\n",
      "date : 1765\n",
      "author_name : Rousseau, Jean-Jacques\n",
      "\n",
      "long_title : Lettres de deux amans, habitans d'une petite ville au pied des Alpes, recueillies et publiées par J.-J. Rousseau, seconde édition augmentée, revue et corrigée par l'editeur\n",
      "publisher : Marc Michel Rey\n",
      "place : Amsterdam\n",
      "date : 1765\n",
      "author_name : Rousseau, Jean-Jacques\n",
      "\n",
      "2/10 positive, 34/10 negative\n",
      "Do these records refer to the same thing?\n",
      "(y)es / (n)o / (u)nsure / (f)inished / (p)revious\n"
     ]
    },
    {
     "name": "stdout",
     "output_type": "stream",
     "text": [
      "y\n"
     ]
    },
    {
     "name": "stderr",
     "output_type": "stream",
     "text": [
      "long_title : Les Helviennes\n",
      "publisher : None\n",
      "place : Amsterdam & Paris, Moutard (\n",
      "date : 1785\n",
      "author_name : NA, NA\n",
      "\n",
      "long_title : Les Helviennes\n",
      "publisher : Moutard\n",
      "place : Amsterdam & Paris\n",
      "date : 1784\n",
      "author_name : NA, NA\n",
      "\n",
      "3/10 positive, 34/10 negative\n",
      "Do these records refer to the same thing?\n",
      "(y)es / (n)o / (u)nsure / (f)inished / (p)revious\n"
     ]
    },
    {
     "name": "stdout",
     "output_type": "stream",
     "text": [
      "n\n"
     ]
    },
    {
     "name": "stderr",
     "output_type": "stream",
     "text": [
      "long_title : Le comte de Valmont\n",
      "publisher : Moutard\n",
      "place : Paris\n",
      "date : 1775\n",
      "author_name : NA, NA\n",
      "\n",
      "long_title : Le comte de Valmont / short title suffices?/ troisième édition revue et augmentée\n",
      "publisher : Moutard\n",
      "place : Paris\n",
      "date : 1776\n",
      "author_name : NA, NA\n",
      "\n",
      "3/10 positive, 35/10 negative\n",
      "Do these records refer to the same thing?\n",
      "(y)es / (n)o / (u)nsure / (f)inished / (p)revious\n"
     ]
    },
    {
     "name": "stdout",
     "output_type": "stream",
     "text": [
      "n\n"
     ]
    },
    {
     "name": "stderr",
     "output_type": "stream",
     "text": [
      "long_title : Lettres de quelques juifs portugais et allemands\n",
      "publisher : Moutard\n",
      "place : Paris\n",
      "date : 1772\n",
      "author_name : NA, NA\n",
      "\n",
      "long_title : Le mentor moderne\n",
      "publisher : Claude HÉRISSANT\n",
      "place : Paris\n",
      "date : 1772\n",
      "author_name : NA, NA\n",
      "\n",
      "3/10 positive, 36/10 negative\n",
      "Do these records refer to the same thing?\n",
      "(y)es / (n)o / (u)nsure / (f)inished / (p)revious\n"
     ]
    },
    {
     "name": "stdout",
     "output_type": "stream",
     "text": [
      "n\n"
     ]
    },
    {
     "name": "stderr",
     "output_type": "stream",
     "text": [
      "long_title : L'homme aux quarante écus\n",
      "publisher : None\n",
      "place : S. l.\n",
      "date : 1768\n",
      "author_name : Voltaire, François-Marie Arouet de#\n",
      "\n",
      "long_title : Lhomme aux quarante écus\n",
      "publisher : None\n",
      "place : Genève\n",
      "date : 1768\n",
      "author_name : NA, NA\n",
      "\n",
      "3/10 positive, 37/10 negative\n",
      "Do these records refer to the same thing?\n",
      "(y)es / (n)o / (u)nsure / (f)inished / (p)revious\n"
     ]
    },
    {
     "name": "stdout",
     "output_type": "stream",
     "text": [
      "n\n"
     ]
    },
    {
     "name": "stderr",
     "output_type": "stream",
     "text": [
      "long_title : Les conquestes du grand Charlemagne, roi de France et d'Espagne, avec les faits héroïques des douze pairs de France et du grand Fierabras et le combat fait par lui contre le petit Olivier qui le vainquit et des trois frères qui firent les neuf épées dont Fierabras en avoit trois pour combattre contre ses ennemis, comme vous verrez ci-après\n",
      "publisher : Jean-Ant. GARNIER\n",
      "place : Troyes\n",
      "date : 1738\n",
      "author_name : Baignon, Jean\n",
      "\n",
      "long_title : Conquestes du grand Charlemagne, roi de France, avec les faits héroïques\n",
      "publisher : Jean-Ant. GARNIER\n",
      "place : Troyes\n",
      "date : 1738\n",
      "author_name : Baignon, Jean\n",
      "\n",
      "3/10 positive, 38/10 negative\n",
      "Do these records refer to the same thing?\n",
      "(y)es / (n)o / (u)nsure / (f)inished / (p)revious\n"
     ]
    },
    {
     "name": "stdout",
     "output_type": "stream",
     "text": [
      "y\n"
     ]
    },
    {
     "name": "stderr",
     "output_type": "stream",
     "text": [
      "long_title : Contes moraux par mde Le Prince de Beaumont\n",
      "publisher : chez les héritiers de Weidmann et Reich\n",
      "place : Leipsick\n",
      "date : 1774\n",
      "author_name : NA, NA\n",
      "\n",
      "long_title : Contes moraux, par Mde Le Prince de Beaumont\n",
      "publisher : J.-E. Dufour\n",
      "place : Maestricht\n",
      "date : 1774\n",
      "author_name : Le Prince de Beaumont, Marie\n",
      "\n",
      "4/10 positive, 38/10 negative\n",
      "Do these records refer to the same thing?\n",
      "(y)es / (n)o / (u)nsure / (f)inished / (p)revious\n"
     ]
    },
    {
     "name": "stdout",
     "output_type": "stream",
     "text": [
      "n\n"
     ]
    },
    {
     "name": "stderr",
     "output_type": "stream",
     "text": [
      "INFO:dedupe.training:Final predicate set:\n",
      "INFO:dedupe.training:(SimplePredicate: (doubleMetaphone, long_title), SimplePredicate: (wholeFieldPredicate, date))\n",
      "INFO:dedupe.training:(SimplePredicate: (wholeFieldPredicate, publisher), TfidfTextCanopyPredicate: (0.2, long_title))\n",
      "long_title : Lettres dEmerance\n",
      "publisher : J.-F. BASSOMPIERRE\n",
      "place : Lyon & Liège\n",
      "date : 1766\n",
      "author_name : NA, NA\n",
      "\n",
      "long_title : Lettres dEmerance\n",
      "publisher : J-.F. BASSOMPIERRE\n",
      "place : Lyon & Liège\n",
      "date : 1776\n",
      "author_name : NA, NA\n",
      "\n",
      "4/10 positive, 39/10 negative\n",
      "Do these records refer to the same thing?\n",
      "(y)es / (n)o / (u)nsure / (f)inished / (p)revious\n"
     ]
    },
    {
     "name": "stdout",
     "output_type": "stream",
     "text": [
      "n\n"
     ]
    },
    {
     "name": "stderr",
     "output_type": "stream",
     "text": [
      "long_title : La vie et les avantures surprenantes de Robinson Crusoé\n",
      "publisher : Z. CHATELAIN ET FILS\n",
      "place : Amsterdam\n",
      "date : 1772\n",
      "author_name : Defoe, Daniel\n",
      "\n",
      "long_title : La vie et les avantures surprenantes de Robinson Crusoé\n",
      "publisher : Z. CHATELAIN ET FILS\n",
      "place : Amsterdam\n",
      "date : 1782\n",
      "author_name : Defoe, Daniel\n",
      "\n",
      "4/10 positive, 40/10 negative\n",
      "Do these records refer to the same thing?\n",
      "(y)es / (n)o / (u)nsure / (f)inished / (p)revious\n"
     ]
    },
    {
     "name": "stdout",
     "output_type": "stream",
     "text": [
      "n\n"
     ]
    },
    {
     "name": "stderr",
     "output_type": "stream",
     "text": [
      "long_title : Lettres persanes par M. de Montesquieu, nouvelle édition augmentée de douze lettres qui ne se trouvent point dans les précedentes** et d'une table des matieres\n",
      "publisher : s.n.\n",
      "place : Amsterdam\n",
      "date : 1781\n",
      "author_name : Montesquieu, Charles-Louis de Secondat  baron de la Brède et de\n",
      "\n",
      "long_title : Lettres persanes par M. de Montesquieu, nouvelle édition augmentée de douze lettres qui ne se trouvent point dans les précédentes et d'une table des matieres\n",
      "publisher : s.n.\n",
      "place : Amsterdam\n",
      "date : 1789\n",
      "author_name : Montesquieu, Charles-Louis de Secondat  baron de la Brède et de\n",
      "\n",
      "4/10 positive, 41/10 negative\n",
      "Do these records refer to the same thing?\n",
      "(y)es / (n)o / (u)nsure / (f)inished / (p)revious\n"
     ]
    },
    {
     "name": "stdout",
     "output_type": "stream",
     "text": [
      "n\n"
     ]
    },
    {
     "name": "stderr",
     "output_type": "stream",
     "text": [
      "long_title : La princesse de Babilone\n",
      "publisher : None\n",
      "place : S. l.\n",
      "date : 1768\n",
      "author_name : Voltaire, François-Marie Arouet de\n",
      "\n",
      "long_title : La princesse de Babilone\n",
      "publisher : None\n",
      "place : Londres\n",
      "date : 1768\n",
      "author_name : NA, NA\n",
      "\n",
      "4/10 positive, 42/10 negative\n",
      "Do these records refer to the same thing?\n",
      "(y)es / (n)o / (u)nsure / (f)inished / (p)revious\n"
     ]
    },
    {
     "name": "stdout",
     "output_type": "stream",
     "text": [
      "n\n"
     ]
    },
    {
     "name": "stderr",
     "output_type": "stream",
     "text": [
      "long_title : Dictionnaire d'anecdotes, de traits singuliers et caractéristiques, historiettes, bons mots, naïvetés, saillies, reparties ingénieuses, &c. &c., nouvelle edition augmentée\n",
      "publisher : La Combe\n",
      "place : Paris\n",
      "date : 1768\n",
      "author_name : Lacombe de prezel, Honoré\n",
      "\n",
      "long_title : Dictionnaire d'anecdotes, de traits singuliers et caractéristiques, historiettes, bons mots, naïvetés, saillies, reparties ingénieuses, &c. &c., nouvelle edition augmentée\n",
      "publisher : La Combe\n",
      "place : Paris\n",
      "date : 1769\n",
      "author_name : Lacombe de prezel, Honoré\n",
      "\n",
      "4/10 positive, 43/10 negative\n",
      "Do these records refer to the same thing?\n",
      "(y)es / (n)o / (u)nsure / (f)inished / (p)revious\n"
     ]
    },
    {
     "name": "stdout",
     "output_type": "stream",
     "text": [
      "n\n"
     ]
    },
    {
     "name": "stderr",
     "output_type": "stream",
     "text": [
      "long_title : Les égaremens d'un philosophe ou la vie du chevalier de Saint-Albin, par M. de Saint=Clair\n",
      "publisher : Regnault\n",
      "place : Genève & Paris\n",
      "date : 1787\n",
      "author_name : NA, NA\n",
      "\n",
      "long_title : Les égaremens dun philosophe ou la vie du chevalier de Saint-Albin\n",
      "publisher : Regnault\n",
      "place : Genève & Paris\n",
      "date : 1789\n",
      "author_name : NA, NA\n",
      "\n",
      "4/10 positive, 44/10 negative\n",
      "Do these records refer to the same thing?\n",
      "(y)es / (n)o / (u)nsure / (f)inished / (p)revious\n"
     ]
    },
    {
     "name": "stdout",
     "output_type": "stream",
     "text": [
      "n\n"
     ]
    },
    {
     "name": "stderr",
     "output_type": "stream",
     "text": [
      "long_title : Histoire de Gil Blas de Santillane, par M. Le Sage, nouvelle édition\n",
      "publisher : Compagnie des libraires\n",
      "place : Paris\n",
      "date : 1771\n",
      "author_name : Lesage, Alain-René\n",
      "\n",
      "long_title : Histoire de Gil Blas de Santillane, par M. Le Sage, nouvelle édition\n",
      "publisher : Humblot\n",
      "place : Paris\n",
      "date : 1771\n",
      "author_name : Lesage, Alain-René\n",
      "\n",
      "4/10 positive, 45/10 negative\n",
      "Do these records refer to the same thing?\n",
      "(y)es / (n)o / (u)nsure / (f)inished / (p)revious\n"
     ]
    },
    {
     "name": "stdout",
     "output_type": "stream",
     "text": [
      "n\n"
     ]
    },
    {
     "name": "stderr",
     "output_type": "stream",
     "text": [
      "long_title : Julie collection complète des oeuvres, 2-4\n",
      "publisher : None\n",
      "place : Genève\n",
      "date : 1780\n",
      "author_name : NA, NA\n",
      "\n",
      "long_title : Les amours de milord Bomston ds Collection complète des oeuvres de J. J. Rousseau, 3\n",
      "publisher : None\n",
      "place : Genève\n",
      "date : 1780\n",
      "author_name : NA, NA\n",
      "\n",
      "4/10 positive, 46/10 negative\n",
      "Do these records refer to the same thing?\n",
      "(y)es / (n)o / (u)nsure / (f)inished / (p)revious\n"
     ]
    },
    {
     "name": "stdout",
     "output_type": "stream",
     "text": [
      "n\n"
     ]
    },
    {
     "name": "stderr",
     "output_type": "stream",
     "text": [
      "long_title : La sympathie des ames\n",
      "publisher : H.-C. DE HANSY LE JEUNE\n",
      "place : Paris\n",
      "date : 1768\n",
      "author_name : Wieland, Christoph Martin\n",
      "\n",
      "long_title : La sympathie des ames\n",
      "publisher : de Hansy\n",
      "place : Paris\n",
      "date : 1768\n",
      "author_name : NA, NA\n",
      "\n",
      "4/10 positive, 47/10 negative\n",
      "Do these records refer to the same thing?\n",
      "(y)es / (n)o / (u)nsure / (f)inished / (p)revious\n"
     ]
    },
    {
     "name": "stdout",
     "output_type": "stream",
     "text": [
      "y\n"
     ]
    },
    {
     "name": "stderr",
     "output_type": "stream",
     "text": [
      "long_title : Les conversations d'Emilie|\n",
      "publisher : Plomteux\n",
      "place : Paris & Liège\n",
      "date : 1784\n",
      "author_name : NA, NA\n",
      "\n",
      "long_title : Les conversations d'Emilie|\n",
      "publisher : Dufour et Roux\n",
      "place : Paris & Maestricht\n",
      "date : 1784\n",
      "author_name : NA, NA\n",
      "\n",
      "5/10 positive, 47/10 negative\n",
      "Do these records refer to the same thing?\n",
      "(y)es / (n)o / (u)nsure / (f)inished / (p)revious\n"
     ]
    },
    {
     "name": "stdout",
     "output_type": "stream",
     "text": [
      "n\n"
     ]
    },
    {
     "name": "stderr",
     "output_type": "stream",
     "text": [
      "long_title : Les veillées du chateau\n",
      "publisher : libraires associés\n",
      "place : Paris\n",
      "date : 1784\n",
      "author_name : NA, NA\n",
      "\n",
      "long_title : Les veillées du château\n",
      "publisher : libraires associés\n",
      "place : Paris\n",
      "date : 1785\n",
      "author_name : NA, NA\n",
      "\n",
      "5/10 positive, 48/10 negative\n",
      "Do these records refer to the same thing?\n",
      "(y)es / (n)o / (u)nsure / (f)inished / (p)revious\n"
     ]
    },
    {
     "name": "stdout",
     "output_type": "stream",
     "text": [
      "n\n"
     ]
    },
    {
     "name": "stderr",
     "output_type": "stream",
     "text": [
      "long_title : Histoire du chevalier Des Grieux\n",
      "publisher : s.n.\n",
      "place : Londres\n",
      "date : 1782\n",
      "author_name : Prévost, abbé Antoine-François\n",
      "\n",
      "long_title : Amusemens des eaux de Spa, ouvrage utile à ceux qui vont boire ces eaux minérales sur les lieux et agréable pour tous les lecteurs\n",
      "publisher : s.n.\n",
      "place : Londres\n",
      "date : 1782\n",
      "author_name : Po~llnitz, Karl Ludwig  Freiherr von\n",
      "\n",
      "5/10 positive, 49/10 negative\n",
      "Do these records refer to the same thing?\n",
      "(y)es / (n)o / (u)nsure / (f)inished / (p)revious\n"
     ]
    },
    {
     "name": "stdout",
     "output_type": "stream",
     "text": [
      "n\n"
     ]
    },
    {
     "name": "stderr",
     "output_type": "stream",
     "text": [
      "long_title : Le comte de Valmont\n",
      "publisher : Moutard\n",
      "place : Paris\n",
      "date : 1776\n",
      "author_name : NA, NA\n",
      "\n",
      "long_title : Le comte de Valmont\n",
      "publisher : Moutard\n",
      "place : Paris\n",
      "date : 1778\n",
      "author_name : NA, NA\n",
      "\n",
      "5/10 positive, 50/10 negative\n",
      "Do these records refer to the same thing?\n",
      "(y)es / (n)o / (u)nsure / (f)inished / (p)revious\n"
     ]
    },
    {
     "name": "stdout",
     "output_type": "stream",
     "text": [
      "n\n"
     ]
    },
    {
     "name": "stderr",
     "output_type": "stream",
     "text": [
      "long_title : Histoire de Jenni ds Oeuvres, 45\n",
      "publisher : Imprimerie de Jean-Jacques TOURNEISEN\n",
      "place : Basle\n",
      "date : 1784\n",
      "author_name : NA, NA\n",
      "\n",
      "long_title : Histoire de Jenni ds Oeuvres, 45\n",
      "publisher : None\n",
      "place : S. l. [Kehl], Imprimerie de la Société littéraire-typographique\n",
      "date : 1784\n",
      "author_name : NA, NA\n",
      "\n",
      "5/10 positive, 51/10 negative\n",
      "Do these records refer to the same thing?\n",
      "(y)es / (n)o / (u)nsure / (f)inished / (p)revious\n"
     ]
    },
    {
     "name": "stdout",
     "output_type": "stream",
     "text": [
      "n\n"
     ]
    },
    {
     "name": "stderr",
     "output_type": "stream",
     "text": [
      "long_title : Mon bonnet de nuit\n",
      "publisher : Société typographique et se vend à Versailles, Poinçot\n",
      "place : Neuchatel\n",
      "date : 1784\n",
      "author_name : NA, NA\n",
      "\n",
      "long_title : Mon bonnet de nuit\n",
      "publisher : mprimerie de la Société typographique\n",
      "place : Neuchtel\n",
      "date : 1784\n",
      "author_name : NA, NA\n",
      "\n",
      "5/10 positive, 52/10 negative\n",
      "Do these records refer to the same thing?\n",
      "(y)es / (n)o / (u)nsure / (f)inished / (p)revious\n"
     ]
    },
    {
     "name": "stdout",
     "output_type": "stream",
     "text": [
      "y\n"
     ]
    },
    {
     "name": "stderr",
     "output_type": "stream",
     "text": [
      "long_title : Lingénu\n",
      "publisher : None\n",
      "place : Utrecht\n",
      "date : 1767\n",
      "author_name : NA, NA\n",
      "\n",
      "long_title : Lingénu\n",
      "publisher : None\n",
      "place : Utrecht\n",
      "date : 1767\n",
      "author_name : NA, NA\n",
      "\n",
      "6/10 positive, 52/10 negative\n",
      "Do these records refer to the same thing?\n",
      "(y)es / (n)o / (u)nsure / (f)inished / (p)revious\n"
     ]
    },
    {
     "name": "stdout",
     "output_type": "stream",
     "text": [
      "y\n"
     ]
    },
    {
     "name": "stderr",
     "output_type": "stream",
     "text": [
      "long_title : Lettres cabalistiques, ou Correspondance philosophique, historique et critique entre deux cabalistes, divers esprits élémentaires et le seigneur Astaroth\n",
      "publisher : P. Paupie\n",
      "place : La Haye\n",
      "date : 1769\n",
      "author_name : Argens, Jean-Baptiste de Boyer [marquis d']\n",
      "\n",
      "long_title : Lettres cabalistiques, ou Correspondance philosophique, historique et critique entre deux cabalistes, divers esprits élémentaires et le seigneur Astaroth\n",
      "publisher : P. Paupie\n",
      "place : La Haye\n",
      "date : 1741\n",
      "author_name : Argens, Jean-Baptiste de Boyer [marquis d']\n",
      "\n",
      "7/10 positive, 52/10 negative\n",
      "Do these records refer to the same thing?\n",
      "(y)es / (n)o / (u)nsure / (f)inished / (p)revious\n"
     ]
    },
    {
     "name": "stdout",
     "output_type": "stream",
     "text": [
      "n\n"
     ]
    },
    {
     "name": "stderr",
     "output_type": "stream",
     "text": [
      "long_title : Lettres\n",
      "publisher : chez Marc-Michel REY\n",
      "place : Amsterdam\n",
      "date : 1761\n",
      "author_name : NA, NA\n",
      "\n",
      "long_title : Lettres\n",
      "publisher : None\n",
      "place : Genève\n",
      "date : 1761\n",
      "author_name : NA, NA\n",
      "\n",
      "7/10 positive, 53/10 negative\n",
      "Do these records refer to the same thing?\n",
      "(y)es / (n)o / (u)nsure / (f)inished / (p)revious\n"
     ]
    },
    {
     "name": "stdout",
     "output_type": "stream",
     "text": [
      "n\n"
     ]
    },
    {
     "name": "stderr",
     "output_type": "stream",
     "text": [
      "long_title : Mémoires et aventures d'une dame de qualité qui s'est retirée du monde\n",
      "publisher : Pierre ERIALED\n",
      "place : Amsterdam\n",
      "date : 1772\n",
      "author_name : Lambert, abbé Claude-François\n",
      "\n",
      "long_title : Mémoires et aventures d'une dame de qualité qui s'est retirée du monde\n",
      "publisher : Pierre ERIALED\n",
      "place : Amsterdam\n",
      "date : 1773\n",
      "author_name : Lambert, abbé Claude-François\n",
      "\n",
      "7/10 positive, 54/10 negative\n",
      "Do these records refer to the same thing?\n",
      "(y)es / (n)o / (u)nsure / (f)inished / (p)revious\n"
     ]
    },
    {
     "name": "stdout",
     "output_type": "stream",
     "text": [
      "n\n"
     ]
    },
    {
     "name": "stderr",
     "output_type": "stream",
     "text": [
      "long_title : \u0001 \u0001\n",
      "publisher : Louis GUERIN\n",
      "place : \u0001\n",
      "date : 1755\n",
      "author_name : \u0001, Louis de \u0001\n",
      "\n",
      "long_title : \u0001 \u0001\n",
      "publisher : Neaulme\n",
      "place : \u0001\n",
      "date : 1755\n",
      "author_name : \u0001, NA\n",
      "\n",
      "7/10 positive, 55/10 negative\n",
      "Do these records refer to the same thing?\n",
      "(y)es / (n)o / (u)nsure / (f)inished / (p)revious\n"
     ]
    },
    {
     "name": "stdout",
     "output_type": "stream",
     "text": [
      "u\n"
     ]
    },
    {
     "name": "stderr",
     "output_type": "stream",
     "text": [
      "long_title : Le Momus français\n",
      "publisher : Pierre MARTEAU\n",
      "place : Cologne\n",
      "date : 1768\n",
      "author_name : Le roy, Antoine  sieur de\n",
      "\n",
      "long_title : Le Momus français\n",
      "publisher : Pierre MARTEAU\n",
      "place : Cologne\n",
      "date : 1772\n",
      "author_name : Le roy, Antoine  sieur de\n",
      "\n",
      "7/10 positive, 55/10 negative\n",
      "Do these records refer to the same thing?\n",
      "(y)es / (n)o / (u)nsure / (f)inished / (p)revious\n"
     ]
    },
    {
     "name": "stdout",
     "output_type": "stream",
     "text": [
      "n\n"
     ]
    },
    {
     "name": "stderr",
     "output_type": "stream",
     "text": [
      "long_title : Lhomme aux quarante écus\n",
      "publisher : None\n",
      "place : Londres\n",
      "date : 1768\n",
      "author_name : NA, NA\n",
      "\n",
      "long_title : Lhomme aux quarante écus\n",
      "publisher : None\n",
      "place : Genève\n",
      "date : 1768\n",
      "author_name : NA, NA\n",
      "\n",
      "7/10 positive, 56/10 negative\n",
      "Do these records refer to the same thing?\n",
      "(y)es / (n)o / (u)nsure / (f)inished / (p)revious\n"
     ]
    },
    {
     "name": "stdout",
     "output_type": "stream",
     "text": [
      "n\n"
     ]
    },
    {
     "name": "stderr",
     "output_type": "stream",
     "text": [
      "long_title : Les liaisons dangéreuses\n",
      "publisher : Durand neveu\n",
      "place : Amsterdam et se trouve à Paris\n",
      "date : 1782\n",
      "author_name : NA, NA\n",
      "\n",
      "long_title : Les Liaisons dangéreuses\n",
      "publisher : Durand neuveu\n",
      "place : Amsterdam & Paris\n",
      "date : 1782\n",
      "author_name : NA, NA\n",
      "\n",
      "7/10 positive, 57/10 negative\n",
      "Do these records refer to the same thing?\n",
      "(y)es / (n)o / (u)nsure / (f)inished / (p)revious\n"
     ]
    },
    {
     "name": "stdout",
     "output_type": "stream",
     "text": [
      "y\n"
     ]
    },
    {
     "name": "stderr",
     "output_type": "stream",
     "text": [
      "long_title : L'Arrétin moderne\n",
      "publisher : aux dépens de la CONGRÉGATION DE L'INDEX\n",
      "place : Rome\n",
      "date : 1776\n",
      "author_name : NA, NA\n",
      "\n",
      "long_title : L'Arrétin moderne\n",
      "publisher : aux dépens de la CONGRÉGATION DE L'INDEX\n",
      "place : Rome\n",
      "date : 1780\n",
      "author_name : NA, NA\n",
      "\n",
      "8/10 positive, 57/10 negative\n",
      "Do these records refer to the same thing?\n",
      "(y)es / (n)o / (u)nsure / (f)inished / (p)revious\n"
     ]
    },
    {
     "name": "stdout",
     "output_type": "stream",
     "text": [
      "n\n"
     ]
    },
    {
     "name": "stderr",
     "output_type": "stream",
     "text": [
      "long_title : L'Arrétin moderne\n",
      "publisher : aux dépens de la CONGRÉGATION DE L'INDEX\n",
      "place : Rome\n",
      "date : 1773\n",
      "author_name : NA, NA\n",
      "\n",
      "long_title : L'Arrétin moderne\n",
      "publisher : aux dépens de la CONGRÉGATION DE L'INDEX\n",
      "place : Rome\n",
      "date : 1776\n",
      "author_name : NA, NA\n",
      "\n",
      "8/10 positive, 58/10 negative\n",
      "Do these records refer to the same thing?\n",
      "(y)es / (n)o / (u)nsure / (f)inished / (p)revious\n"
     ]
    },
    {
     "name": "stdout",
     "output_type": "stream",
     "text": [
      "n\n"
     ]
    },
    {
     "name": "stderr",
     "output_type": "stream",
     "text": [
      "long_title : Nouvelles espagnoles\n",
      "publisher : veuve Duchesne\n",
      "place : Paris\n",
      "date : 1776\n",
      "author_name : NA, NA\n",
      "\n",
      "long_title : Nouvelles espagnoles de Michel de Cervantès, traduction nouvelle avec des notes, ornée de figures en taille-douce, par m. Le Febvre de Villebrune, Le jaloux d'Estrémadure, nouvelle quatrième\n",
      "publisher : veuve Duchesne\n",
      "place : Paris\n",
      "date : 1776\n",
      "author_name : Cervantes saavedra, Miguel de\n",
      "\n",
      "8/10 positive, 59/10 negative\n",
      "Do these records refer to the same thing?\n",
      "(y)es / (n)o / (u)nsure / (f)inished / (p)revious\n"
     ]
    },
    {
     "name": "stdout",
     "output_type": "stream",
     "text": [
      "y\n"
     ]
    },
    {
     "name": "stderr",
     "output_type": "stream",
     "text": [
      "long_title : Les Incas\n",
      "publisher : Lacombe\n",
      "place : Paris\n",
      "date : 1777\n",
      "author_name : NA, NA\n",
      "\n",
      "long_title : Les Incas\n",
      "publisher : Himbourg\n",
      "place : Berlin\n",
      "date : 1777\n",
      "author_name : NA, NA\n",
      "\n",
      "9/10 positive, 59/10 negative\n",
      "Do these records refer to the same thing?\n",
      "(y)es / (n)o / (u)nsure / (f)inished / (p)revious\n"
     ]
    },
    {
     "name": "stdout",
     "output_type": "stream",
     "text": [
      "n\n"
     ]
    },
    {
     "name": "stderr",
     "output_type": "stream",
     "text": [
      "INFO:dedupe.training:Final predicate set:\n",
      "INFO:dedupe.training:(SimplePredicate: (doubleMetaphone, long_title), SimplePredicate: (wholeFieldPredicate, date))\n",
      "INFO:dedupe.training:(SimplePredicate: (wholeFieldPredicate, publisher), SimplePredicate: (yearPredicate, date))\n",
      "long_title : Julie\n",
      "publisher : None\n",
      "place : Genève\n",
      "date : 1780\n",
      "author_name : NA, NA\n",
      "\n",
      "long_title : La nouvelle Héloïse ou lettres de deux amans, habitans d'une petite ville au pied des Alpes, recueillies et publiées par J.J. Rousseau\n",
      "publisher : s.n.\n",
      "place : Genève\n",
      "date : 1780\n",
      "author_name : Rousseau, Jean-Jacques\n",
      "\n",
      "9/10 positive, 60/10 negative\n",
      "Do these records refer to the same thing?\n",
      "(y)es / (n)o / (u)nsure / (f)inished / (p)revious\n"
     ]
    },
    {
     "name": "stdout",
     "output_type": "stream",
     "text": [
      "n\n"
     ]
    },
    {
     "name": "stderr",
     "output_type": "stream",
     "text": [
      "long_title : Louise ou la chaumière dans les marais\n",
      "publisher : None\n",
      "place : Londres & Paris\n",
      "date : 1788\n",
      "author_name : NA, NA\n",
      "\n",
      "long_title : Louise ou la chaumière dans les marais\n",
      "publisher : B. Le Francq\n",
      "place : Londres & Bruxelles\n",
      "date : 1788\n",
      "author_name : NA, NA\n",
      "\n",
      "9/10 positive, 61/10 negative\n",
      "Do these records refer to the same thing?\n",
      "(y)es / (n)o / (u)nsure / (f)inished / (p)revious\n"
     ]
    },
    {
     "name": "stdout",
     "output_type": "stream",
     "text": [
      "n\n"
     ]
    },
    {
     "name": "stderr",
     "output_type": "stream",
     "text": [
      "long_title : \u0001 \u0001\n",
      "publisher : None\n",
      "place : \u0001\n",
      "date : 1754\n",
      "author_name : \u0001, Philippe-Auguste de Sainte-Foix  chevalier d' \u0001\n",
      "\n",
      "long_title : \u0001 \u0001\n",
      "publisher : s.n.\n",
      "place : \u0001\n",
      "date : 1754\n",
      "author_name : \u0001, Michel \u0001\n",
      "\n",
      "9/10 positive, 62/10 negative\n",
      "Do these records refer to the same thing?\n",
      "(y)es / (n)o / (u)nsure / (f)inished / (p)revious\n"
     ]
    },
    {
     "name": "stdout",
     "output_type": "stream",
     "text": [
      "n\n"
     ]
    },
    {
     "name": "stderr",
     "output_type": "stream",
     "text": [
      "long_title : Les folies sentimentales ou l'égarement de l'esprit par le cœur\n",
      "publisher : Royez\n",
      "place : Paris\n",
      "date : 1787\n",
      "author_name : NA, NA\n",
      "\n",
      "long_title : Lettres de Charlotte à Caroline, son amie\n",
      "publisher : Royez\n",
      "place : Londres & Paris\n",
      "date : 1787\n",
      "author_name : NA, NA\n",
      "\n",
      "9/10 positive, 63/10 negative\n",
      "Do these records refer to the same thing?\n",
      "(y)es / (n)o / (u)nsure / (f)inished / (p)revious\n"
     ]
    },
    {
     "name": "stdout",
     "output_type": "stream",
     "text": [
      "n\n"
     ]
    },
    {
     "name": "stderr",
     "output_type": "stream",
     "text": [
      "long_title : Mélise et Marcia\n",
      "publisher : Maradan\n",
      "place : Londres & Paris\n",
      "date : 1788\n",
      "author_name : NA, NA\n",
      "\n",
      "long_title : Mélise et Marcia ou les deux soeurs, traduit de l'anglois\n",
      "publisher : Maradan\n",
      "place : London; Paris\n",
      "date : 1788\n",
      "author_name : Hervey, Elizabeth\n",
      "\n",
      "9/10 positive, 64/10 negative\n",
      "Do these records refer to the same thing?\n",
      "(y)es / (n)o / (u)nsure / (f)inished / (p)revious\n"
     ]
    },
    {
     "name": "stdout",
     "output_type": "stream",
     "text": [
      "y\n"
     ]
    },
    {
     "name": "stderr",
     "output_type": "stream",
     "text": [
      "long_title : Miss Courtenay ou les épreuves du malheur, traduction de l'anglois\n",
      "publisher : Maradan\n",
      "place : Paris\n",
      "date : 1789\n",
      "author_name : Lennox, Charlotte\n",
      "\n",
      "long_title : Le mariage platonique, imité de l'anglais par madame la baronne de Vasse\n",
      "publisher : Maradan\n",
      "place : Amsterdam & Paris\n",
      "date : 1789\n",
      "author_name : Cartwrlght, Mrs H.\n",
      "\n",
      "10/10 positive, 64/10 negative\n",
      "Do these records refer to the same thing?\n",
      "(y)es / (n)o / (u)nsure / (f)inished / (p)revious\n"
     ]
    },
    {
     "name": "stdout",
     "output_type": "stream",
     "text": [
      "n\n"
     ]
    },
    {
     "name": "stderr",
     "output_type": "stream",
     "text": [
      "long_title : Les Saisons\n",
      "publisher : None\n",
      "place : Londres\n",
      "date : 1782\n",
      "author_name : NA, NA\n",
      "\n",
      "long_title : Les Saisons\n",
      "publisher : Cazin\n",
      "place : Londres\n",
      "date : 1782\n",
      "author_name : NA, NA\n",
      "\n",
      "10/10 positive, 65/10 negative\n",
      "Do these records refer to the same thing?\n",
      "(y)es / (n)o / (u)nsure / (f)inished / (p)revious\n"
     ]
    },
    {
     "name": "stdout",
     "output_type": "stream",
     "text": [
      "y\n"
     ]
    },
    {
     "name": "stderr",
     "output_type": "stream",
     "text": [
      "long_title : L'école de l'amitié \u0001 \u0001\n",
      "publisher : Knoch et Eslinger\n",
      "place : Francfort & Leipsic\n",
      "date : 1758\n",
      "author_name : Thibouville, Henri de Lambert d'Herbigny  marquis de \u0001\n",
      "\n",
      "long_title : L'école de l'amitié \u0001 \u0001\n",
      "publisher : J.F. BASSOMPIERRE, LIBRAIRE À LIÈGE \u0001ET, J. Vanden BERGHEN, LIBRAIRE À BRUXELLES\n",
      "place : Francfort, en Foire\n",
      "date : 1758\n",
      "author_name : Thibouville, Henri de Lambert d'Herbigny  marquis de \u0001\n",
      "\n",
      "11/10 positive, 65/10 negative\n",
      "Do these records refer to the same thing?\n",
      "(y)es / (n)o / (u)nsure / (f)inished / (p)revious\n"
     ]
    },
    {
     "name": "stdout",
     "output_type": "stream",
     "text": [
      "n\n"
     ]
    },
    {
     "name": "stderr",
     "output_type": "stream",
     "text": [
      "long_title : Correspondance d'un jeune militaire\n",
      "publisher : libraires associés, (t. 2), de limprimerie de la Société typographjque\n",
      "place : En Suisse (t.\n",
      "date : 1779\n",
      "author_name : NA, NA\n",
      "\n",
      "long_title : Correspondance d'un jeune militaire\n",
      "publisher : chez lauteur\n",
      "place : Paris\n",
      "date : 1779\n",
      "author_name : NA, NA\n",
      "\n",
      "11/10 positive, 66/10 negative\n",
      "Do these records refer to the same thing?\n",
      "(y)es / (n)o / (u)nsure / (f)inished / (p)revious\n"
     ]
    },
    {
     "name": "stdout",
     "output_type": "stream",
     "text": [
      "f\n"
     ]
    },
    {
     "name": "stderr",
     "output_type": "stream",
     "text": [
      "Finished labeling\n"
     ]
    }
   ],
   "source": [
    "# Cell 2.3 Label tranining examples\n",
    "dd.consoleLabel(mmf_model)"
   ]
  },
  {
   "cell_type": "code",
   "execution_count": 6,
   "metadata": {},
   "outputs": [
    {
     "name": "stderr",
     "output_type": "stream",
     "text": [
      "INFO:rlr.crossvalidation:using cross validation to find optimum alpha...\n"
     ]
    },
    {
     "name": "stdout",
     "output_type": "stream",
     "text": [
      "Active Dedupe object found. Now training model...\n"
     ]
    },
    {
     "name": "stderr",
     "output_type": "stream",
     "text": [
      "INFO:rlr.crossvalidation:optimum alpha: 0.010000, score 0.6927012425965802\n",
      "INFO:dedupe.training:Final predicate set:\n",
      "INFO:dedupe.training:(SimplePredicate: (doubleMetaphone, long_title), SimplePredicate: (wholeFieldPredicate, date))\n",
      "INFO:dedupe.training:(SimplePredicate: (wholeFieldPredicate, publisher), SimplePredicate: (yearPredicate, date))\n"
     ]
    },
    {
     "name": "stdout",
     "output_type": "stream",
     "text": [
      "Training complete. It took 5.611 seconds.\n",
      "Saving training data and trained parameters...\n",
      "Training data written to mmf_2/mmf_training.json.\n",
      "Trained parameters written to mmf_2/mmf_settings.\n",
      "Computing threshold based on a recall weighting of 1.5.\n"
     ]
    },
    {
     "name": "stderr",
     "output_type": "stream",
     "text": [
      "INFO:dedupe.blocking:10000, 1.2428082 seconds\n",
      "WARNING:dedupe.backport:Dedupe does not currently support multiprocessing on Windows\n",
      "INFO:dedupe.api:Maximum expected recall and precision\n",
      "INFO:dedupe.api:recall: 0.936\n",
      "INFO:dedupe.api:precision: 0.768\n",
      "INFO:dedupe.api:With threshold: 0.270\n"
     ]
    },
    {
     "name": "stdout",
     "output_type": "stream",
     "text": [
      "Computation complete. Threshold = 0.2700316905975342. It took 7.195 seconds.\n",
      "Clustering...\n"
     ]
    },
    {
     "name": "stderr",
     "output_type": "stream",
     "text": [
      "INFO:dedupe.blocking:10000, 0.8430582 seconds\n"
     ]
    },
    {
     "name": "stdout",
     "output_type": "stream",
     "text": [
      "Clustering complete. 1556 clusters found. It took 6.893 seconds.\n"
     ]
    }
   ],
   "source": [
    "_, mmf_matches = run_deduper(mmf_model, mmf_df, mmf_settings, mmf_training, recall_weight = 1.5)"
   ]
  },
  {
   "cell_type": "code",
   "execution_count": 7,
   "metadata": {},
   "outputs": [
    {
     "name": "stdout",
     "output_type": "stream",
     "text": [
      "Writing clustered data to mmf_2/mmf_deduped.csv...\n",
      "Done!\n"
     ]
    }
   ],
   "source": [
    "_ = save_clusters(mmf_matches, mmf_df, mmf_output)"
   ]
  }
 ],
 "metadata": {
  "kernelspec": {
   "display_name": "Python 3",
   "language": "python",
   "name": "python3"
  },
  "language_info": {
   "codemirror_mode": {
    "name": "ipython",
    "version": 3
   },
   "file_extension": ".py",
   "mimetype": "text/x-python",
   "name": "python",
   "nbconvert_exporter": "python",
   "pygments_lexer": "ipython3",
   "version": "3.7.0"
  }
 },
 "nbformat": 4,
 "nbformat_minor": 2
}
