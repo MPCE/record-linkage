{
 "cells": [
  {
   "cell_type": "markdown",
   "metadata": {},
   "source": [
    "# Assigning super_book_codes to the banned books\n",
    "\n",
    "**Author:** Michael Falk\n",
    "\n",
    "**Date:** 31/10/18-1/11/18\n",
    "\n",
    "## Background\n",
    "\n",
    "One of the key datasets for *Mapping Print, Charting Enlightenment* is a set of documents concerning illegal books in eighteenth-century France. BNF MS 21928-9 contains a list of banned books. It is unclear who exactly wrote the list, but it appears to have been prepared by the central government to assist book inspectors with their tasks across France. BNF Arsenal MS 10305 is an inventory of all the books that were found in the Bastille when it was stormed during the French Revolution. The actual MS has disappeared, but luckily a modern edition exists.\n",
    "\n",
    "A problem occured during entry of the data. The interface was supposed to oblige the user to assign a 'super book code' to each title in the banned books lists upon entry. But due to a glitch in the interface, the lookup took too long at it was impossible to efficiently do so. Accordingly, only 97 of the 1000+ illegal books have a 'super book code' assigned to them. The data is therefore not linked to the rest of the database and is useless for analysis.\n",
    "\n",
    "To speed up the process of linking all the data, this notebook uses 'dedupe', an open-source record linkage library, to try and find links between these banned titles and the titles already recorded elsewhere in the database. Hopefully this will speed up record linkage, and provide a testbed for other record linkage tasks in the project.\n",
    "\n",
    "***"
   ]
  },
  {
   "cell_type": "markdown",
   "metadata": {},
   "source": [
    "## Section 1: Import data, initialise model"
   ]
  },
  {
   "cell_type": "code",
   "execution_count": 74,
   "metadata": {},
   "outputs": [],
   "source": [
    "# Cell 1.1: Load necessary libraries and define key paths\n",
    "import dedupe as dd\n",
    "import pandas as pd\n",
    "import os as os\n",
    "import time\n",
    "import numpy as np\n",
    "import random\n",
    "\n",
    "input_file = \"combined_editions_illegal_books.csv\"\n",
    "output_file = \"illegal_books_deduped.csv\"\n",
    "settings_file = \"illegal_books_learned_settings\"\n",
    "training_file = \"illegal_books_training.json\"\n",
    "output_file = \"illegal_books_clustered.csv\""
   ]
  },
  {
   "cell_type": "markdown",
   "metadata": {},
   "source": [
    "Data was preprocessed in R. The full set of 'editions' was extracted from the database. The illegal_titles data was cleaned, and the two datasets were combined into a single large table. The script is in this repo. This preprocessing means that the problem is now a problem of finding duplicate rows in a single table."
   ]
  },
  {
   "cell_type": "code",
   "execution_count": 69,
   "metadata": {},
   "outputs": [
    {
     "name": "stdout",
     "output_type": "stream",
     "text": [
      "The data has 14201 rows, 1941 of which need super_book_codes assigned.\n"
     ]
    }
   ],
   "source": [
    "# Cell 1.2: Import data\n",
    "data_frame = pd.read_csv(input_file)\n",
    "\n",
    "print(f\"The data has {data_frame.shape[0]} rows, {data_frame[data_frame['super_book_code'].isna()].shape[0]} of which need super_book_codes assigned.\")\n",
    "\n",
    "# Dedupe requires missing values to be 'Nones', and wants the data to be a list of dicts.\n",
    "data_frame = data_frame.where(pd.notnull(data_frame), None)\n",
    "data = data_frame.to_dict(\"index\")"
   ]
  },
  {
   "cell_type": "code",
   "execution_count": 3,
   "metadata": {},
   "outputs": [],
   "source": [
    "# Cell 1.3: Define initialisation function\n",
    "def dedupe_initialise(data, fields, settings_file, training_file, sample_size = 15000):\n",
    "    \"\"\"\n",
    "    Takes a data dictionary and field definitions and creates a Dedupe object.\n",
    "    \n",
    "    params:\n",
    "        data: a list of dicts, where each dict represents one record\n",
    "        fields: a list of dicts, where each dict describes a field that the model should inspect\n",
    "    \n",
    "    returns:\n",
    "        deduper: a Dedupe object\n",
    "    \"\"\"\n",
    "    \n",
    "    # Check to see if an initialised model has already been saved.\n",
    "    # If so, load the initialised model. If not, initialise a new model using the fields list supplied.\n",
    "    if os.path.exists(settings_file):\n",
    "        print('reading from', settings_file)\n",
    "        with open(settings_file, 'rb') as f:\n",
    "            deduper = dedupe.StaticDedupe(f)\n",
    "    else:\n",
    "        deduper = dd.Dedupe(fields)\n",
    "    \n",
    "    # Create training sample pairs from provided data\n",
    "    deduper.sample(data, sample_size)\n",
    "    \n",
    "    # Load existing training file if it exists\n",
    "    if os.path.exists(training_file):\n",
    "        print('reading labeled examples from ', training_file)\n",
    "        with open(training_file, 'rb') as f:\n",
    "            deduper.readTraining(f)\n",
    "    \n",
    "    return deduper"
   ]
  },
  {
   "cell_type": "code",
   "execution_count": 4,
   "metadata": {},
   "outputs": [
    {
     "name": "stderr",
     "output_type": "stream",
     "text": [
      "INFO:dedupe.canopy_index:Removing stop word  L\n",
      "INFO:dedupe.canopy_index:Removing stop word  d\n",
      "INFO:dedupe.canopy_index:Removing stop word  p\n",
      "INFO:dedupe.canopy_index:Removing stop word a \n",
      "INFO:dedupe.canopy_index:Removing stop word du\n",
      "INFO:dedupe.canopy_index:Removing stop word em\n",
      "INFO:dedupe.canopy_index:Removing stop word es\n",
      "INFO:dedupe.canopy_index:Removing stop word hi\n",
      "INFO:dedupe.canopy_index:Removing stop word is\n",
      "INFO:dedupe.canopy_index:Removing stop word mo\n",
      "INFO:dedupe.canopy_index:Removing stop word oi\n",
      "INFO:dedupe.canopy_index:Removing stop word po\n",
      "INFO:dedupe.canopy_index:Removing stop word re\n",
      "INFO:dedupe.canopy_index:Removing stop word s \n",
      "INFO:dedupe.canopy_index:Removing stop word st\n",
      "INFO:dedupe.canopy_index:Removing stop word u \n",
      "INFO:dedupe.canopy_index:Removing stop word ur\n",
      "INFO:dedupe.canopy_index:Removing stop word  P\n",
      "INFO:dedupe.canopy_index:Removing stop word  e\n",
      "INFO:dedupe.canopy_index:Removing stop word Co\n",
      "INFO:dedupe.canopy_index:Removing stop word ab\n",
      "INFO:dedupe.canopy_index:Removing stop word al\n",
      "INFO:dedupe.canopy_index:Removing stop word at\n",
      "INFO:dedupe.canopy_index:Removing stop word ce\n",
      "INFO:dedupe.canopy_index:Removing stop word en\n",
      "INFO:dedupe.canopy_index:Removing stop word ic\n",
      "INFO:dedupe.canopy_index:Removing stop word in\n",
      "INFO:dedupe.canopy_index:Removing stop word l \n",
      "INFO:dedupe.canopy_index:Removing stop word na\n",
      "INFO:dedupe.canopy_index:Removing stop word ns\n",
      "INFO:dedupe.canopy_index:Removing stop word on\n",
      "INFO:dedupe.canopy_index:Removing stop word pa\n",
      "INFO:dedupe.canopy_index:Removing stop word ra\n",
      "INFO:dedupe.canopy_index:Removing stop word ré\n",
      "INFO:dedupe.canopy_index:Removing stop word ss\n",
      "INFO:dedupe.canopy_index:Removing stop word ti\n",
      "INFO:dedupe.canopy_index:Removing stop word x \n",
      "INFO:dedupe.canopy_index:Removing stop word é \n",
      "INFO:dedupe.canopy_index:Removing stop word ée\n",
      "INFO:dedupe.canopy_index:Removing stop word  c\n",
      "INFO:dedupe.canopy_index:Removing stop word  o\n",
      "INFO:dedupe.canopy_index:Removing stop word  t\n",
      "INFO:dedupe.canopy_index:Removing stop word da\n",
      "INFO:dedupe.canopy_index:Removing stop word eu\n",
      "INFO:dedupe.canopy_index:Removing stop word he\n",
      "INFO:dedupe.canopy_index:Removing stop word it\n",
      "INFO:dedupe.canopy_index:Removing stop word le\n",
      "INFO:dedupe.canopy_index:Removing stop word me\n",
      "INFO:dedupe.canopy_index:Removing stop word n \n",
      "INFO:dedupe.canopy_index:Removing stop word nt\n",
      "INFO:dedupe.canopy_index:Removing stop word qu\n",
      "INFO:dedupe.canopy_index:Removing stop word rs\n",
      "INFO:dedupe.canopy_index:Removing stop word t \n",
      "INFO:dedupe.canopy_index:Removing stop word tr\n",
      "INFO:dedupe.canopy_index:Removing stop word ui\n",
      "INFO:dedupe.canopy_index:Removing stop word uv\n",
      "INFO:dedupe.canopy_index:Removing stop word ve\n",
      "INFO:dedupe.canopy_index:Removing stop word  C\n",
      "INFO:dedupe.canopy_index:Removing stop word co\n",
      "INFO:dedupe.canopy_index:Removing stop word li\n",
      "INFO:dedupe.canopy_index:Removing stop word  f\n",
      "INFO:dedupe.canopy_index:Removing stop word il\n",
      "INFO:dedupe.canopy_index:Removing stop word lo\n",
      "INFO:dedupe.canopy_index:Removing stop word ag\n",
      "INFO:dedupe.canopy_index:Removing stop word ge\n",
      "INFO:dedupe.canopy_index:Removing stop word ne\n",
      "INFO:dedupe.canopy_index:Removing stop word  n\n",
      "INFO:dedupe.canopy_index:Removing stop word ct\n",
      "INFO:dedupe.canopy_index:Removing stop word iq\n",
      "INFO:dedupe.canopy_index:Removing stop word ta\n",
      "INFO:dedupe.canopy_index:Removing stop word ci\n",
      "INFO:dedupe.canopy_index:Removing stop word ec\n",
      "INFO:dedupe.canopy_index:Removing stop word nd\n",
      "INFO:dedupe.canopy_index:Removing stop word tt\n",
      "INFO:dedupe.canopy_index:Removing stop word  S\n",
      "INFO:dedupe.canopy_index:Removing stop word ca\n",
      "INFO:dedupe.canopy_index:Removing stop word ni\n",
      "INFO:dedupe.canopy_index:Removing stop word pe\n",
      "INFO:dedupe.canopy_index:Removing stop word sa\n",
      "INFO:dedupe.canopy_index:Removing stop word ts\n",
      "INFO:dedupe.canopy_index:Removing stop word té\n",
      "INFO:dedupe.canopy_index:Removing stop word ux\n",
      "INFO:dedupe.canopy_index:Removing stop word ac\n",
      "INFO:dedupe.canopy_index:Removing stop word ch\n",
      "INFO:dedupe.canopy_index:Removing stop word so\n",
      "INFO:dedupe.canopy_index:Removing stop word  r\n",
      "INFO:dedupe.canopy_index:Removing stop word  M\n",
      "INFO:dedupe.canopy_index:Removing stop word M \n",
      "INFO:dedupe.canopy_index:Removing stop word ig\n",
      "INFO:dedupe.canopy_index:Removing stop word av\n",
      "INFO:dedupe.canopy_index:Removing stop word ut\n",
      "INFO:dedupe.canopy_index:Removing stop word ma\n",
      "INFO:dedupe.canopy_index:Removing stop word os\n",
      "INFO:dedupe.canopy_index:Removing stop word du\n",
      "INFO:dedupe.canopy_index:Removing stop word sur\n",
      "INFO:dedupe.canopy_index:Removing stop word de\n",
      "INFO:dedupe.canopy_index:Removing stop word par\n",
      "INFO:dedupe.canopy_index:Removing stop word le\n",
      "INFO:dedupe.canopy_index:Removing stop word des\n",
      "INFO:dedupe.canopy_index:Removing stop word les\n",
      "INFO:dedupe.canopy_index:Removing stop word et\n",
      "INFO:dedupe.canopy_index:Removing stop word ou\n",
      "INFO:dedupe.canopy_index:Removing stop word M\n",
      "INFO:dedupe.canopy_index:Removing stop word de\n",
      "INFO:dedupe.canopy_index:Removing stop word ar\n",
      "INFO:dedupe.canopy_index:Removing stop word er\n",
      "INFO:dedupe.canopy_index:Removing stop word ie\n",
      "INFO:dedupe.canopy_index:Removing stop word an\n",
      "INFO:dedupe.canopy_index:Removing stop word  J\n",
      "INFO:dedupe.canopy_index:Removing stop word is\n",
      "INFO:dedupe.canopy_index:Removing stop word e \n"
     ]
    }
   ],
   "source": [
    "# Cell 1.4: Initialise deduper\n",
    "\n",
    "# Creat a list of fields for the model to look at. NB: 'ID' and 'UUID' are not relevant to the task,\n",
    "# hence do not appear in the list. The 'super_book_code' also encodes no useful information,\n",
    "# because the problem is that we have records without codes, and the model will learn to focus on that\n",
    "# column too much if we include it, since it is a perfect determinant of identity.\n",
    "fields = [\n",
    "    {'field':'full_book_title', 'type': 'String'},\n",
    "    {'field':'author_name', 'type': 'String'},\n",
    "    {'field':'stated_publication_places', 'type': 'String'},\n",
    "    {'field':'stated_publication_years', 'type': 'DateTime'}\n",
    "]\n",
    "\n",
    "deduper = dedupe_initialise(data, fields, settings_file, training_file)"
   ]
  },
  {
   "cell_type": "markdown",
   "metadata": {},
   "source": [
    "## Section 2: Training the Model"
   ]
  },
  {
   "cell_type": "code",
   "execution_count": 6,
   "metadata": {},
   "outputs": [
    {
     "name": "stderr",
     "output_type": "stream",
     "text": [
      "full_book_title : Bibliotheque des sciences et des beaux arts\n",
      "author_name : Joncourt, Elie [de]\n",
      "stated_publication_places : La Haye\n",
      "stated_publication_years : None\n",
      "\n",
      "full_book_title : Heures dédiées à monseigneur le dauphin\n",
      "author_name : None\n",
      "stated_publication_places : Bayeux\n",
      "stated_publication_years : 1784\n",
      "\n",
      "0/10 positive, 0/10 negative\n",
      "Do these records refer to the same thing?\n",
      "(y)es / (n)o / (u)nsure / (f)inished\n"
     ]
    },
    {
     "name": "stdout",
     "output_type": "stream",
     "text": [
      "n\n"
     ]
    },
    {
     "name": "stderr",
     "output_type": "stream",
     "text": [
      "full_book_title : Exposition historique et apologetique des miracles perpetuels\n",
      "author_name : None\n",
      "stated_publication_places : None\n",
      "stated_publication_years : 1707\n",
      "\n",
      "full_book_title : Nouveau Dictionnaire (le) Suisse, François-Allemand, et Allemand-François\n",
      "author_name : Poetevin, Franz Ludwig\n",
      "stated_publication_places : None\n",
      "stated_publication_years : None\n",
      "\n",
      "0/10 positive, 1/10 negative\n",
      "Do these records refer to the same thing?\n",
      "(y)es / (n)o / (u)nsure / (f)inished / (p)revious\n"
     ]
    },
    {
     "name": "stdout",
     "output_type": "stream",
     "text": [
      "n\n"
     ]
    },
    {
     "name": "stderr",
     "output_type": "stream",
     "text": [
      "full_book_title : Oeuvres de Regnard\n",
      "author_name : Regnard, Jean François\n",
      "stated_publication_places : Paris\n",
      "stated_publication_years : 1788\n",
      "\n",
      "full_book_title : Synonymes françois\n",
      "author_name : Girard, Gabriel\n",
      "stated_publication_places : Rouen\n",
      "stated_publication_years : 1788\n",
      "\n",
      "0/10 positive, 2/10 negative\n",
      "Do these records refer to the same thing?\n",
      "(y)es / (n)o / (u)nsure / (f)inished / (p)revious\n"
     ]
    },
    {
     "name": "stdout",
     "output_type": "stream",
     "text": [
      "n\n"
     ]
    },
    {
     "name": "stderr",
     "output_type": "stream",
     "text": [
      "full_book_title : Olinde, par l'auteur des mémoires du vicomte de Barjac\n",
      "author_name : Luchet, Jean-Pierre-Louis de La Roche du Marin [marquis de]\n",
      "stated_publication_places : Geneva\n",
      "stated_publication_years : 1784\n",
      "\n",
      "full_book_title : Histoire de Messieurs Paris: ouvrage dans lequel on montre comment un royaume peut passer dans l'espace de cinq années de l'état le plus déplorable à l'état le plus florissant, par Mr de L*****, ancien officier de cavalerie\n",
      "author_name : Luchet, Jean-Pierre-Louis de La Roche du Marin [marquis de]\n",
      "stated_publication_places : None\n",
      "stated_publication_years : 1276\n",
      "\n",
      "0/10 positive, 3/10 negative\n",
      "Do these records refer to the same thing?\n",
      "(y)es / (n)o / (u)nsure / (f)inished / (p)revious\n"
     ]
    },
    {
     "name": "stdout",
     "output_type": "stream",
     "text": [
      "n\n"
     ]
    },
    {
     "name": "stderr",
     "output_type": "stream",
     "text": [
      "full_book_title : Nouveau (le) testament\n",
      "author_name : None\n",
      "stated_publication_places : None\n",
      "stated_publication_years : 1709\n",
      "\n",
      "full_book_title : Nouveau (le) testament de N. S. J. C. traduit sur l'ancienne Edition latine, corrigée par le commandément du pape Sixte 5 et publiée par l'autorité du pape Clement 8, par le R. P. Denis Amelotte pretre de l’oratoire, docteur en Theologie avec permission de son Ess. Magr le Cardinal de Noailles archeveque de Paris, nouvelle edition revûe et corrigée\n",
      "author_name : [Bible]\n",
      "stated_publication_places : Avignon\n",
      "stated_publication_years : 1776\n",
      "\n",
      "0/10 positive, 4/10 negative\n",
      "Do these records refer to the same thing?\n",
      "(y)es / (n)o / (u)nsure / (f)inished / (p)revious\n"
     ]
    },
    {
     "name": "stdout",
     "output_type": "stream",
     "text": [
      "y\n"
     ]
    },
    {
     "name": "stderr",
     "output_type": "stream",
     "text": [
      "full_book_title : Essais de Montaigne, avec les notes de M. Coste\n",
      "author_name : Montaigne, Michel Eyquem\n",
      "stated_publication_places : London\n",
      "stated_publication_years : 1771\n",
      "\n",
      "full_book_title : Abrégé de l'histoire de Geneve, et de son gouvernement ancien et moderne\n",
      "author_name : Lorovich, Antoine\n",
      "stated_publication_places : London\n",
      "stated_publication_years : 1274\n",
      "\n",
      "1/10 positive, 4/10 negative\n",
      "Do these records refer to the same thing?\n",
      "(y)es / (n)o / (u)nsure / (f)inished / (p)revious\n"
     ]
    },
    {
     "name": "stdout",
     "output_type": "stream",
     "text": [
      "n\n"
     ]
    },
    {
     "name": "stderr",
     "output_type": "stream",
     "text": [
      "INFO:dedupe.training:Final predicate set:\n",
      "INFO:dedupe.training:(SimplePredicate: (commonThreeTokens, full_book_title), SimplePredicate: (sameSevenCharStartPredicate, full_book_title))\n",
      "full_book_title : Nouveautés\n",
      "author_name : Marmontel, Jean-François\n",
      "stated_publication_places : None\n",
      "stated_publication_years : 1773\n",
      "\n",
      "full_book_title : Fables (les) d’Esope mises en françois avec le Sens morale en quatre vers, nouvelle edition, revue, corrigée et augmentée de la vie d'Esope et des quatrains de Benserade dediée à la jeunesse\n",
      "author_name : Aesop\n",
      "stated_publication_places : Avignon\n",
      "stated_publication_years : 1763\n",
      "\n",
      "1/10 positive, 5/10 negative\n",
      "Do these records refer to the same thing?\n",
      "(y)es / (n)o / (u)nsure / (f)inished / (p)revious\n"
     ]
    },
    {
     "name": "stdout",
     "output_type": "stream",
     "text": [
      "n\n"
     ]
    },
    {
     "name": "stderr",
     "output_type": "stream",
     "text": [
      "full_book_title : Oeuvres completes de Boulanger\n",
      "author_name : Boulanger, Nicolas Antoine\n",
      "stated_publication_places : None\n",
      "stated_publication_years : 1775\n",
      "\n",
      "full_book_title : Style universel de toutes les cours et Jurisdictions du Royaume concernant les saisies et executions tant des meublee qu’immeublee; avec les formules des commandemens et des saisies tant mobiliaires que réelles par M. J. A. S. avocat au parlement de Toulouse\n",
      "author_name : Soulatges, Jean Antoine\n",
      "stated_publication_places : Toulouse\n",
      "stated_publication_years : 1757\n",
      "\n",
      "1/10 positive, 6/10 negative\n",
      "Do these records refer to the same thing?\n",
      "(y)es / (n)o / (u)nsure / (f)inished / (p)revious\n"
     ]
    },
    {
     "name": "stdout",
     "output_type": "stream",
     "text": [
      "n\n"
     ]
    },
    {
     "name": "stderr",
     "output_type": "stream",
     "text": [
      "full_book_title : Comptes faits de Barême\n",
      "author_name : Barrême, François Bertrand de\n",
      "stated_publication_places : Nantes\n",
      "stated_publication_years : 1780\n",
      "\n",
      "full_book_title : Comptes faits de Barême\n",
      "author_name : Barrême, François Bertrand de\n",
      "stated_publication_places : Orléans\n",
      "stated_publication_years : 1780\n",
      "\n",
      "1/10 positive, 7/10 negative\n",
      "Do these records refer to the same thing?\n",
      "(y)es / (n)o / (u)nsure / (f)inished / (p)revious\n"
     ]
    },
    {
     "name": "stdout",
     "output_type": "stream",
     "text": [
      "y\n"
     ]
    },
    {
     "name": "stderr",
     "output_type": "stream",
     "text": [
      "full_book_title : Fables choisies de la fontaine avec un nouveau commentaire par M. Coste\n",
      "author_name : Coste, Pierre\n",
      "stated_publication_places : Paris\n",
      "stated_publication_years : 1768\n",
      "\n",
      "full_book_title : None\n",
      "author_name : Coste, Pierre\n",
      "stated_publication_places : None\n",
      "stated_publication_years : None\n",
      "\n",
      "2/10 positive, 7/10 negative\n",
      "Do these records refer to the same thing?\n",
      "(y)es / (n)o / (u)nsure / (f)inished / (p)revious\n"
     ]
    },
    {
     "name": "stdout",
     "output_type": "stream",
     "text": [
      "y\n"
     ]
    },
    {
     "name": "stderr",
     "output_type": "stream",
     "text": [
      "full_book_title : Dictionnaire Geographique portatif par M. Vosgien\n",
      "author_name : Echard, Laurence\n",
      "stated_publication_places : Paris\n",
      "stated_publication_years : 1770\n",
      "\n",
      "full_book_title : Dictionnaire Geographique portatif par M. Vosgien\n",
      "author_name : La Martinière, Antoine Augustin Bruzen [de]\n",
      "stated_publication_places : Paris\n",
      "stated_publication_years : 1770\n",
      "\n",
      "3/10 positive, 7/10 negative\n",
      "Do these records refer to the same thing?\n",
      "(y)es / (n)o / (u)nsure / (f)inished / (p)revious\n"
     ]
    },
    {
     "name": "stdout",
     "output_type": "stream",
     "text": [
      "y\n"
     ]
    },
    {
     "name": "stderr",
     "output_type": "stream",
     "text": [
      "INFO:dedupe.training:Final predicate set:\n",
      "INFO:dedupe.training:(SimplePredicate: (commonThreeTokens, full_book_title), SimplePredicate: (sameSevenCharStartPredicate, full_book_title))\n",
      "INFO:dedupe.training:(TfidfNGramCanopyPredicate: (0.8, author_name), TfidfTextCanopyPredicate: (0.8, author_name))\n",
      "full_book_title : Esprit (l') de Bourdaloue\n",
      "author_name : Bourdaloue, Louis\n",
      "stated_publication_places : Paris\n",
      "stated_publication_years : None\n",
      "\n",
      "full_book_title : Pensées du P. Bourdaloue\n",
      "author_name : Bourdaloue, Louis\n",
      "stated_publication_places : None\n",
      "stated_publication_years : None\n",
      "\n",
      "4/10 positive, 7/10 negative\n",
      "Do these records refer to the same thing?\n",
      "(y)es / (n)o / (u)nsure / (f)inished / (p)revious\n"
     ]
    },
    {
     "name": "stdout",
     "output_type": "stream",
     "text": [
      "n\n"
     ]
    },
    {
     "name": "stderr",
     "output_type": "stream",
     "text": [
      "full_book_title : Histoire de la duchesse d'Anjou reine d'Angleterre\n",
      "author_name : None\n",
      "stated_publication_places : None\n",
      "stated_publication_years : 1713\n",
      "\n",
      "full_book_title : Histoire de la découverte et de la conquête du Perou\n",
      "author_name : Zarate, Agustin de\n",
      "stated_publication_places : None\n",
      "stated_publication_years : None\n",
      "\n",
      "4/10 positive, 8/10 negative\n",
      "Do these records refer to the same thing?\n",
      "(y)es / (n)o / (u)nsure / (f)inished / (p)revious\n"
     ]
    },
    {
     "name": "stdout",
     "output_type": "stream",
     "text": [
      "n\n"
     ]
    },
    {
     "name": "stderr",
     "output_type": "stream",
     "text": [
      "full_book_title : Sylphe (le), par Crébillon fils\n",
      "author_name : Crébillon, Claude Prosper Jolyot de\n",
      "stated_publication_places : Maestricht\n",
      "stated_publication_years : 1785\n",
      "\n",
      "full_book_title : Vie et lettres de Ninon de L'Enclos\n",
      "author_name : Crébillon, Claude Prosper Jolyot de\n",
      "stated_publication_places : Toulouse\n",
      "stated_publication_years : 1778\n",
      "\n",
      "4/10 positive, 9/10 negative\n",
      "Do these records refer to the same thing?\n",
      "(y)es / (n)o / (u)nsure / (f)inished / (p)revious\n"
     ]
    },
    {
     "name": "stdout",
     "output_type": "stream",
     "text": [
      "n\n"
     ]
    },
    {
     "name": "stderr",
     "output_type": "stream",
     "text": [
      "full_book_title : Oraisons funébres, par M.M. Bossuet et Fléchier\n",
      "author_name : Fléchier, Esprit\n",
      "stated_publication_places : Lyon\n",
      "stated_publication_years : 1783\n",
      "\n",
      "full_book_title : Histoire de The?odose le Grand pour monseigneur le Dauphin\n",
      "author_name : Fléchier, Esprit\n",
      "stated_publication_places : Toulouse\n",
      "stated_publication_years : 1781\n",
      "\n",
      "4/10 positive, 10/10 negative\n",
      "Do these records refer to the same thing?\n",
      "(y)es / (n)o / (u)nsure / (f)inished / (p)revious\n"
     ]
    },
    {
     "name": "stdout",
     "output_type": "stream",
     "text": [
      "n\n"
     ]
    },
    {
     "name": "stderr",
     "output_type": "stream",
     "text": [
      "full_book_title : Les colloques du calvaire, ou me?ditations sur la Passion de N. S. Jesus-Christ\n",
      "author_name : Courbon, Noe?l \n",
      "stated_publication_places : Rouen\n",
      "stated_publication_years : 1779\n",
      "\n",
      "full_book_title : Instructions familieres sur l'oraison mentale, en forme de dialogue, ou l'on explique les divers degrés par les quels on peut s'avancer dans ce St exercice.  Par le R. P. Jean-Joseph Surin de la Compagnie de Jesu\n",
      "author_name : Courbon, Noe?l \n",
      "stated_publication_places : Nancy\n",
      "stated_publication_years : 1738\n",
      "\n",
      "4/10 positive, 11/10 negative\n",
      "Do these records refer to the same thing?\n",
      "(y)es / (n)o / (u)nsure / (f)inished / (p)revious\n"
     ]
    },
    {
     "name": "stdout",
     "output_type": "stream",
     "text": [
      "n\n"
     ]
    },
    {
     "name": "stderr",
     "output_type": "stream",
     "text": [
      "full_book_title : Microscope bibliographique\n",
      "author_name : Malebranche, Nicolas\n",
      "stated_publication_places : Amsterdam\n",
      "stated_publication_years : None\n",
      "\n",
      "full_book_title : Conversations chrétiennes\n",
      "author_name : Malebranche, Nicolas\n",
      "stated_publication_places : None\n",
      "stated_publication_years : None\n",
      "\n",
      "4/10 positive, 12/10 negative\n",
      "Do these records refer to the same thing?\n",
      "(y)es / (n)o / (u)nsure / (f)inished / (p)revious\n"
     ]
    },
    {
     "name": "stdout",
     "output_type": "stream",
     "text": [
      "n\n"
     ]
    },
    {
     "name": "stderr",
     "output_type": "stream",
     "text": [
      "full_book_title : Elévation à Dieu de Bossuet\n",
      "author_name : Bossuet, Jacques Bénigne\n",
      "stated_publication_places : None\n",
      "stated_publication_years : None\n",
      "\n",
      "full_book_title : Justification des reflexions sur le Nouveau Testament\n",
      "author_name : Bossuet, Jacques Bénigne\n",
      "stated_publication_places : None\n",
      "stated_publication_years : None\n",
      "\n",
      "4/10 positive, 13/10 negative\n",
      "Do these records refer to the same thing?\n",
      "(y)es / (n)o / (u)nsure / (f)inished / (p)revious\n"
     ]
    },
    {
     "name": "stdout",
     "output_type": "stream",
     "text": [
      "n\n"
     ]
    },
    {
     "name": "stderr",
     "output_type": "stream",
     "text": [
      "full_book_title : Conduite pour passer Saintement le tems de L’Avent par le R. P. Avrillon\n",
      "author_name : Avrillon, R. B.\n",
      "stated_publication_places : Paris\n",
      "stated_publication_years : 1759\n",
      "\n",
      "full_book_title : Conduite pour passer saintement Le Carême par le R. P. Avrillon\n",
      "author_name : Avrillon, R. B.\n",
      "stated_publication_places : None\n",
      "stated_publication_years : None\n",
      "\n",
      "4/10 positive, 14/10 negative\n",
      "Do these records refer to the same thing?\n",
      "(y)es / (n)o / (u)nsure / (f)inished / (p)revious\n"
     ]
    },
    {
     "name": "stdout",
     "output_type": "stream",
     "text": [
      "n\n"
     ]
    },
    {
     "name": "stderr",
     "output_type": "stream",
     "text": [
      "full_book_title : Bible (la) enfin expliquée\n",
      "author_name : Voltaire, François Marie Arouet\n",
      "stated_publication_places : None\n",
      "stated_publication_years : None\n",
      "\n",
      "full_book_title : Histoire de l'empire de Russie sous Pierre le Grand, divisé en deux parties, par M. de Voltaire precedé et suivie de pieces qui sont relatives et accompagnés d’une table des matieres\n",
      "author_name : Voltaire, François Marie Arouet\n",
      "stated_publication_places : Lausanne\n",
      "stated_publication_years : 1771\n",
      "\n",
      "4/10 positive, 15/10 negative\n",
      "Do these records refer to the same thing?\n",
      "(y)es / (n)o / (u)nsure / (f)inished / (p)revious\n"
     ]
    },
    {
     "name": "stdout",
     "output_type": "stream",
     "text": [
      "n\n"
     ]
    },
    {
     "name": "stderr",
     "output_type": "stream",
     "text": [
      "full_book_title : Methode de pomper le mauvais air des vaisseaux\n",
      "author_name : Lavirotte, Louis Anne\n",
      "stated_publication_places : None\n",
      "stated_publication_years : None\n",
      "\n",
      "full_book_title : Methode de pomper le mauvais air des vaisseaux\n",
      "author_name : Mead, Richard\n",
      "stated_publication_places : None\n",
      "stated_publication_years : None\n",
      "\n",
      "4/10 positive, 16/10 negative\n",
      "Do these records refer to the same thing?\n",
      "(y)es / (n)o / (u)nsure / (f)inished / (p)revious\n"
     ]
    },
    {
     "name": "stdout",
     "output_type": "stream",
     "text": [
      "y\n"
     ]
    },
    {
     "name": "stderr",
     "output_type": "stream",
     "text": [
      "full_book_title : Essai sur l'administration de St. Domingue\n",
      "author_name : Raynal, Guillaume-Thomas-François\n",
      "stated_publication_places : None\n",
      "stated_publication_years : 1785\n",
      "\n",
      "full_book_title : [Histoire philosophique et politique des établissements et du commerce des Européens dans les deux Indes (unknown volumes)]\n",
      "author_name : Raynal, Guillaume-Thomas-François\n",
      "stated_publication_places : None\n",
      "stated_publication_years : None\n",
      "\n",
      "5/10 positive, 16/10 negative\n",
      "Do these records refer to the same thing?\n",
      "(y)es / (n)o / (u)nsure / (f)inished / (p)revious\n"
     ]
    },
    {
     "name": "stdout",
     "output_type": "stream",
     "text": [
      "n\n"
     ]
    },
    {
     "name": "stderr",
     "output_type": "stream",
     "text": [
      "full_book_title : Contes moraux\n",
      "author_name : Marmontel, Jean-François\n",
      "stated_publication_places : None\n",
      "stated_publication_years : None\n",
      "\n",
      "full_book_title : Lucile, comédie en un acte mêlée d'ariette\n",
      "author_name : Marmontel, Jean-François\n",
      "stated_publication_places : None\n",
      "stated_publication_years : None\n",
      "\n",
      "5/10 positive, 17/10 negative\n",
      "Do these records refer to the same thing?\n",
      "(y)es / (n)o / (u)nsure / (f)inished / (p)revious\n"
     ]
    },
    {
     "name": "stdout",
     "output_type": "stream",
     "text": [
      "n\n"
     ]
    },
    {
     "name": "stderr",
     "output_type": "stream",
     "text": [
      "full_book_title : Contes moraux par Mde le prince de Beaumont\n",
      "author_name : Le Prince de Beaumont, Marie\n",
      "stated_publication_places : Lyon\n",
      "stated_publication_years : 1774\n",
      "\n",
      "full_book_title : Mentor (le) moderne, ou instructions pour les garçons et pour ceux qui les élevent\n",
      "author_name : Le Prince de Beaumont, Marie\n",
      "stated_publication_places : Paris\n",
      "stated_publication_years : 1773\n",
      "\n",
      "5/10 positive, 18/10 negative\n",
      "Do these records refer to the same thing?\n",
      "(y)es / (n)o / (u)nsure / (f)inished / (p)revious\n"
     ]
    },
    {
     "name": "stdout",
     "output_type": "stream",
     "text": [
      "n\n"
     ]
    },
    {
     "name": "stderr",
     "output_type": "stream",
     "text": [
      "full_book_title : Journée du chrétien\n",
      "author_name : Clément, Denis Xavier\n",
      "stated_publication_places : Bruyères\n",
      "stated_publication_years : 1786\n",
      "\n",
      "full_book_title : Maximes pour se conduire dans le monde, par l'abbé Clément\n",
      "author_name : Clément, Denis Xavier\n",
      "stated_publication_places : Rouen\n",
      "stated_publication_years : 1785\n",
      "\n",
      "5/10 positive, 19/10 negative\n",
      "Do these records refer to the same thing?\n",
      "(y)es / (n)o / (u)nsure / (f)inished / (p)revious\n"
     ]
    },
    {
     "name": "stdout",
     "output_type": "stream",
     "text": [
      "n\n"
     ]
    },
    {
     "name": "stderr",
     "output_type": "stream",
     "text": [
      "full_book_title : Annales de l'Empire depuis Charlemagne jusqu'à nos jours\n",
      "author_name : Voltaire, François Marie Arouet\n",
      "stated_publication_places : London\n",
      "stated_publication_years : 1780\n",
      "\n",
      "full_book_title : Nouveautés\n",
      "author_name : Voltaire, François Marie Arouet\n",
      "stated_publication_places : None\n",
      "stated_publication_years : 1773\n",
      "\n",
      "5/10 positive, 20/10 negative\n",
      "Do these records refer to the same thing?\n",
      "(y)es / (n)o / (u)nsure / (f)inished / (p)revious\n"
     ]
    },
    {
     "name": "stdout",
     "output_type": "stream",
     "text": [
      "n\n"
     ]
    },
    {
     "name": "stderr",
     "output_type": "stream",
     "text": [
      "full_book_title : Old Testament / Ancien Testament (Unknown denomination) [Bible]\n",
      "author_name : [Bible]\n",
      "stated_publication_places : None\n",
      "stated_publication_years : None\n",
      "\n",
      "full_book_title : Nouveau (le) Testament d'Amelote\n",
      "author_name : [Bible]\n",
      "stated_publication_places : None\n",
      "stated_publication_years : None\n",
      "\n",
      "5/10 positive, 21/10 negative\n",
      "Do these records refer to the same thing?\n",
      "(y)es / (n)o / (u)nsure / (f)inished / (p)revious\n"
     ]
    },
    {
     "name": "stdout",
     "output_type": "stream",
     "text": [
      "n\n"
     ]
    },
    {
     "name": "stderr",
     "output_type": "stream",
     "text": [
      "full_book_title : Voyageurs (les) savants et curieux, ou Tablettes instructives & guide de ceux que Sa Maj. Danoise a envoyé en Arabie et autres pays voisins de la Palestine, de la Perse & le Mogol ou l'Inde & vers la mer Rouge & l'Egypte, pour l'éclaircissement de questions très-importantes de l'histoire, de la nature & des arts, rédigé & publié par Mr. Michaelis, conseiller de S.M. Brittannique, professeur en philosophie & directeur de la Société Royale des Sciences à l'Université de Göttingue; traduit de l'allemand \n",
      "author_name : Michaelis, Johann David\n",
      "stated_publication_places : London\n",
      "stated_publication_years : None\n",
      "\n",
      "full_book_title : Vieillesse (de la), par M. Robert \n",
      "author_name : Robert, Marin-Jacques-Clair\n",
      "stated_publication_places : Paris\n",
      "stated_publication_years : 1777\n",
      "\n",
      "5/10 positive, 22/10 negative\n",
      "Do these records refer to the same thing?\n",
      "(y)es / (n)o / (u)nsure / (f)inished / (p)revious\n"
     ]
    },
    {
     "name": "stdout",
     "output_type": "stream",
     "text": [
      "n\n"
     ]
    },
    {
     "name": "stderr",
     "output_type": "stream",
     "text": [
      "full_book_title : Poésies (les) d'Horace, traduites en françois par Mr. l'abbé Batteux \n",
      "author_name : Horatius Flaccus, Quintus\n",
      "stated_publication_places : Paris\n",
      "stated_publication_years : 1763\n",
      "\n",
      "full_book_title : Poésies (les) d'Horace, traduites en françois nouvelle edition\n",
      "author_name : Horatius Flaccus, Quintus\n",
      "stated_publication_places : Paris\n",
      "stated_publication_years : 1771\n",
      "\n",
      "5/10 positive, 23/10 negative\n",
      "Do these records refer to the same thing?\n",
      "(y)es / (n)o / (u)nsure / (f)inished / (p)revious\n"
     ]
    },
    {
     "name": "stdout",
     "output_type": "stream",
     "text": [
      "y\n"
     ]
    },
    {
     "name": "stderr",
     "output_type": "stream",
     "text": [
      "full_book_title : Eloge de la raison\n",
      "author_name : Voltaire, François Marie Arouet\n",
      "stated_publication_places : London\n",
      "stated_publication_years : 1775\n",
      "\n",
      "full_book_title : Méprise (la) d'Arras\n",
      "author_name : Voltaire, François Marie Arouet\n",
      "stated_publication_places : Lausanne\n",
      "stated_publication_years : None\n",
      "\n",
      "6/10 positive, 23/10 negative\n",
      "Do these records refer to the same thing?\n",
      "(y)es / (n)o / (u)nsure / (f)inished / (p)revious\n"
     ]
    },
    {
     "name": "stdout",
     "output_type": "stream",
     "text": [
      "n\n"
     ]
    },
    {
     "name": "stderr",
     "output_type": "stream",
     "text": [
      "full_book_title : Recueil de lettres du Roi de Prusse sur la guerre dernière\n",
      "author_name : Frederick II, King of Prussia\n",
      "stated_publication_places : None\n",
      "stated_publication_years : 1772\n",
      "\n",
      "full_book_title : Mémoires du baron de La Motte-Fouqué... dans lesquels on a inséré sa correspondance intéressante avec Frédéric II, roi de Prusse\n",
      "author_name : Frederick II, King of Prussia\n",
      "stated_publication_places : Berlin\n",
      "stated_publication_years : 1788\n",
      "\n",
      "6/10 positive, 24/10 negative\n",
      "Do these records refer to the same thing?\n",
      "(y)es / (n)o / (u)nsure / (f)inished / (p)revious\n"
     ]
    },
    {
     "name": "stdout",
     "output_type": "stream",
     "text": [
      "n\n"
     ]
    },
    {
     "name": "stderr",
     "output_type": "stream",
     "text": [
      "full_book_title : Oeuvres de Monsieur de Montesquieu\n",
      "author_name : Montesquieu, Charles Louis de Secondat\n",
      "stated_publication_places : Copenhagen; Geneva\n",
      "stated_publication_years : 1764-1768\n",
      "\n",
      "full_book_title : Esprit des loix\n",
      "author_name : Montesquieu, Charles Louis de Secondat\n",
      "stated_publication_places : None\n",
      "stated_publication_years : None\n",
      "\n",
      "6/10 positive, 25/10 negative\n",
      "Do these records refer to the same thing?\n",
      "(y)es / (n)o / (u)nsure / (f)inished / (p)revious\n"
     ]
    },
    {
     "name": "stdout",
     "output_type": "stream",
     "text": [
      "n\n"
     ]
    },
    {
     "name": "stderr",
     "output_type": "stream",
     "text": [
      "full_book_title : Abrégé de l'histoire de la Franche-maçonnerie; précédée et suivie de quelques pièces en vers et en prose, et d'anecdotes qui la concerne; d'un essai sur les mystères et le véritable objet de la confrérie des Francs-Maçons; auquel on a joint un recueil complet des chansons dont ils font usage dans leurs assemblées et dans leurs repas, rédigé par un membre de cet ordre\n",
      "author_name : Koppen, Karl-Friedrich\n",
      "stated_publication_places : Lausanne; London\n",
      "stated_publication_years : 1779\n",
      "\n",
      "full_book_title : Abrégé de la nouvelle méthode\n",
      "author_name : None\n",
      "stated_publication_places : Rouen\n",
      "stated_publication_years : 1779\n",
      "\n",
      "6/10 positive, 26/10 negative\n",
      "Do these records refer to the same thing?\n",
      "(y)es / (n)o / (u)nsure / (f)inished / (p)revious\n"
     ]
    },
    {
     "name": "stdout",
     "output_type": "stream",
     "text": [
      "n\n"
     ]
    },
    {
     "name": "stderr",
     "output_type": "stream",
     "text": [
      "full_book_title : Epître à M. de Monregard, intendant général des Postes de France, par M. Gresset\n",
      "author_name : Gresset, Jean Baptiste Louis\n",
      "stated_publication_places : Amiens\n",
      "stated_publication_years : 1776\n",
      "\n",
      "full_book_title : Oeuvres de M. Gresset\n",
      "author_name : Gresset, Jean Baptiste Louis\n",
      "stated_publication_places : Londres\n",
      "stated_publication_years : 1773\n",
      "\n",
      "6/10 positive, 27/10 negative\n",
      "Do these records refer to the same thing?\n",
      "(y)es / (n)o / (u)nsure / (f)inished / (p)revious\n"
     ]
    },
    {
     "name": "stdout",
     "output_type": "stream",
     "text": [
      "n\n"
     ]
    },
    {
     "name": "stderr",
     "output_type": "stream",
     "text": [
      "full_book_title : Elémens de cavalerie\n",
      "author_name : Guérinière, François Robichon (de la)\n",
      "stated_publication_places : None\n",
      "stated_publication_years : None\n",
      "\n",
      "full_book_title : Ecole de la cavalerie, contenant la connoissance, l'instruction, et la conservation du cheval\n",
      "author_name : Guérinière, François Robichon (de la)\n",
      "stated_publication_places : Paris\n",
      "stated_publication_years : 1736\n",
      "\n",
      "6/10 positive, 28/10 negative\n",
      "Do these records refer to the same thing?\n",
      "(y)es / (n)o / (u)nsure / (f)inished / (p)revious\n"
     ]
    },
    {
     "name": "stdout",
     "output_type": "stream",
     "text": [
      "n\n"
     ]
    },
    {
     "name": "stderr",
     "output_type": "stream",
     "text": [
      "full_book_title : Timée de Locres en grec et en français avec des dissertations sur les principales questions de la métaphysique, de la physique, & de la morale des anciens; qui peuvent servir de suite et de conclusion à la Philosophie du bon sens, par Mr. le marquis d'Argens\n",
      "author_name : Argens, Jean-Baptiste de Boyer [marquis d']\n",
      "stated_publication_places : None\n",
      "stated_publication_years : None\n",
      "\n",
      "full_book_title : Lettres juives, ou correspondance philosophique, historique et critique, entre un Juif voyageur en différents Etats de l'Europe, et ses correspondants en divers endroits\n",
      "author_name : Argens, Jean-Baptiste de Boyer [marquis d']\n",
      "stated_publication_places : None\n",
      "stated_publication_years : None\n",
      "\n",
      "6/10 positive, 29/10 negative\n",
      "Do these records refer to the same thing?\n",
      "(y)es / (n)o / (u)nsure / (f)inished / (p)revious\n"
     ]
    },
    {
     "name": "stdout",
     "output_type": "stream",
     "text": [
      "n\n"
     ]
    },
    {
     "name": "stderr",
     "output_type": "stream",
     "text": [
      "full_book_title : Ame (l') seule avec Dieu seul, ou, Sentimens affectueux sur différens sujets de piété, pour chaque jour du mois, qui pourront aussi servir pour des visites devant le Saint Sacrement\n",
      "author_name : Baudrand, Barthélemi\n",
      "stated_publication_places : Rouen\n",
      "stated_publication_years : 1788\n",
      "\n",
      "full_book_title : Pensez-y bien\n",
      "author_name : Baudrand, Barthélemi\n",
      "stated_publication_places : Nancy\n",
      "stated_publication_years : 1782\n",
      "\n",
      "6/10 positive, 30/10 negative\n",
      "Do these records refer to the same thing?\n",
      "(y)es / (n)o / (u)nsure / (f)inished / (p)revious\n"
     ]
    },
    {
     "name": "stdout",
     "output_type": "stream",
     "text": [
      "n\n"
     ]
    },
    {
     "name": "stderr",
     "output_type": "stream",
     "text": [
      "full_book_title : Nouveau testament de N.S.J.C. [notre seigneur Jésus Christ] tradt [traduit] en français sur la vulgate, par de Huré, imprimé avec la permission de M. le Cal [cardinal] de Noailles\n",
      "author_name : [Bible]\n",
      "stated_publication_places : Toulouse\n",
      "stated_publication_years : 1786\n",
      "\n",
      "full_book_title : Apocrypha (Other denominational editions) [Bible]\n",
      "author_name : [Bible]\n",
      "stated_publication_places : None\n",
      "stated_publication_years : None\n",
      "\n",
      "6/10 positive, 31/10 negative\n",
      "Do these records refer to the same thing?\n",
      "(y)es / (n)o / (u)nsure / (f)inished / (p)revious\n"
     ]
    },
    {
     "name": "stdout",
     "output_type": "stream",
     "text": [
      "n\n"
     ]
    },
    {
     "name": "stderr",
     "output_type": "stream",
     "text": [
      "full_book_title : Defensio declarationis\n",
      "author_name : Bossuet, Jacques Bénigne\n",
      "stated_publication_places : None\n",
      "stated_publication_years : None\n",
      "\n",
      "full_book_title : Oraisons funébres, par M.M. Bossuet et Fléchier\n",
      "author_name : Bossuet, Jacques Bénigne\n",
      "stated_publication_places : Lyon\n",
      "stated_publication_years : 1783\n",
      "\n",
      "6/10 positive, 32/10 negative\n",
      "Do these records refer to the same thing?\n",
      "(y)es / (n)o / (u)nsure / (f)inished / (p)revious\n"
     ]
    },
    {
     "name": "stdout",
     "output_type": "stream",
     "text": [
      "n\n"
     ]
    },
    {
     "name": "stderr",
     "output_type": "stream",
     "text": [
      "full_book_title : Nouvel (le) ange conducteur ou recueil de prieres les plus propres à inspirer de la devotion nouvelle edition revûe et considerablement augmentée, dediée aux personnes de pieté\n",
      "author_name : Coret, Jacques\n",
      "stated_publication_places : Dole\n",
      "stated_publication_years : 1775\n",
      "\n",
      "full_book_title : Nouvel (le) ange conducteur ou Recueil de prieres les plus propres à Inspirer de la devotion en francois et les Vepres et hymnes en latin, nouvelle edition revûe et considerablement augmentée sur l’imprimée\n",
      "author_name : Coret, Jacques\n",
      "stated_publication_places : Paris\n",
      "stated_publication_years : 1777\n",
      "\n",
      "6/10 positive, 33/10 negative\n",
      "Do these records refer to the same thing?\n",
      "(y)es / (n)o / (u)nsure / (f)inished / (p)revious\n"
     ]
    },
    {
     "name": "stdout",
     "output_type": "stream",
     "text": [
      "y\n"
     ]
    },
    {
     "name": "stderr",
     "output_type": "stream",
     "text": [
      "full_book_title : [Contes de Dorat]\n",
      "author_name : Dorat, Claude Joseph\n",
      "stated_publication_places : None\n",
      "stated_publication_years : None\n",
      "\n",
      "full_book_title : Fantaisies (mes)\n",
      "author_name : Dorat, Claude Joseph\n",
      "stated_publication_places : None\n",
      "stated_publication_years : None\n",
      "\n",
      "7/10 positive, 33/10 negative\n",
      "Do these records refer to the same thing?\n",
      "(y)es / (n)o / (u)nsure / (f)inished / (p)revious\n"
     ]
    },
    {
     "name": "stdout",
     "output_type": "stream",
     "text": [
      "n\n"
     ]
    },
    {
     "name": "stderr",
     "output_type": "stream",
     "text": [
      "full_book_title : Du monde, de son origine et de son antiquite\n",
      "author_name : Bernard, Jean-Frédéric\n",
      "stated_publication_places : None\n",
      "stated_publication_years : None\n",
      "\n",
      "full_book_title : Monde (le), son origine, et son antiquité, première partie\n",
      "author_name : Bernard, Jean-Frédéric\n",
      "stated_publication_places : None\n",
      "stated_publication_years : None\n",
      "\n",
      "7/10 positive, 34/10 negative\n",
      "Do these records refer to the same thing?\n",
      "(y)es / (n)o / (u)nsure / (f)inished / (p)revious\n"
     ]
    },
    {
     "name": "stdout",
     "output_type": "stream",
     "text": [
      "y\n"
     ]
    },
    {
     "name": "stderr",
     "output_type": "stream",
     "text": [
      "full_book_title : Réflexions sur le caractère et les talens militaires de Charles XII\n",
      "author_name : Frederick II, King of Prussia\n",
      "stated_publication_places : None\n",
      "stated_publication_years : None\n",
      "\n",
      "full_book_title : Oeuvres du Philosophie Sans Souci\n",
      "author_name : Frederick II, King of Prussia\n",
      "stated_publication_places : Neuchâtel\n",
      "stated_publication_years : 1760\n",
      "\n",
      "8/10 positive, 34/10 negative\n",
      "Do these records refer to the same thing?\n",
      "(y)es / (n)o / (u)nsure / (f)inished / (p)revious\n"
     ]
    },
    {
     "name": "stdout",
     "output_type": "stream",
     "text": [
      "n\n"
     ]
    },
    {
     "name": "stderr",
     "output_type": "stream",
     "text": [
      "full_book_title : Principes ge?ne?raux et raisonne?s de la Grammaire franc?oise.\n",
      "author_name : Restaut, Pierre\n",
      "stated_publication_places : Rouen\n",
      "stated_publication_years : 1786\n",
      "\n",
      "full_book_title : Abregé des principes de la grammaire françoise par M. Restaut Nouvelle edition augmentée des principes généraux de l’ortographe françoise\n",
      "author_name : Restaut, Pierre\n",
      "stated_publication_places : Paris\n",
      "stated_publication_years : 1776\n",
      "\n",
      "8/10 positive, 35/10 negative\n",
      "Do these records refer to the same thing?\n",
      "(y)es / (n)o / (u)nsure / (f)inished / (p)revious\n"
     ]
    },
    {
     "name": "stdout",
     "output_type": "stream",
     "text": [
      "y\n"
     ]
    },
    {
     "name": "stderr",
     "output_type": "stream",
     "text": [
      "full_book_title : Consolations raisonnables et religieuses\n",
      "author_name : Formey, Jean Henri Samuel;\n",
      "stated_publication_places : None\n",
      "stated_publication_years : None\n",
      "\n",
      "full_book_title : Introduction générale aux Sciences par M. Formey\n",
      "author_name : Formey, Jean Henri Samuel\n",
      "stated_publication_places : Amsterdam\n",
      "stated_publication_years : 1774\n",
      "\n",
      "9/10 positive, 35/10 negative\n",
      "Do these records refer to the same thing?\n",
      "(y)es / (n)o / (u)nsure / (f)inished / (p)revious\n"
     ]
    },
    {
     "name": "stdout",
     "output_type": "stream",
     "text": [
      "n\n"
     ]
    },
    {
     "name": "stderr",
     "output_type": "stream",
     "text": [
      "full_book_title : Oeuvres de Regnier\n",
      "author_name : Régnier, Mathurin\n",
      "stated_publication_places : Londres\n",
      "stated_publication_years : 1750\n",
      "\n",
      "full_book_title : Satyres (les) et autres oeuvres du sieur Regnier\n",
      "author_name : Régnier, Mathurin\n",
      "stated_publication_places : None\n",
      "stated_publication_years : None\n",
      "\n",
      "9/10 positive, 36/10 negative\n",
      "Do these records refer to the same thing?\n",
      "(y)es / (n)o / (u)nsure / (f)inished / (p)revious\n"
     ]
    },
    {
     "name": "stdout",
     "output_type": "stream",
     "text": [
      "n\n"
     ]
    },
    {
     "name": "stderr",
     "output_type": "stream",
     "text": [
      "full_book_title : La Sainte Bible en latin et en françois, avec des notes litterales: critiques et historiques, des préfaces et des dissertations, tire?es du Commentaire de Dom Augustin Calmet... de M. l'abbe? de Vence et des auteurs les plus ce?le?bres pour faciliter l'intelligence de l'Ecriture Sainte\n",
      "author_name : Calmet, dom Augustin\n",
      "stated_publication_places : Toulouse\n",
      "stated_publication_years : 1779\n",
      "\n",
      "full_book_title : Bible de dom Calmet avec les notes de l'abbé de Vence et autres\n",
      "author_name : Calmet, dom Augustin\n",
      "stated_publication_places : Toulouse\n",
      "stated_publication_years : 1780\n",
      "\n",
      "9/10 positive, 37/10 negative\n",
      "Do these records refer to the same thing?\n",
      "(y)es / (n)o / (u)nsure / (f)inished / (p)revious\n"
     ]
    },
    {
     "name": "stdout",
     "output_type": "stream",
     "text": [
      "y\n"
     ]
    },
    {
     "name": "stderr",
     "output_type": "stream",
     "text": [
      "full_book_title : Recueil philosophique, ou mélange de pièces sur la religion et la morale, par différents auteurs\n",
      "author_name : Naigeon, Jacques-André\n",
      "stated_publication_places : London\n",
      "stated_publication_years : 1770\n",
      "\n",
      "full_book_title : Militaire (le) philosophe, ou Difficultés sur la religion, proposées au R. P. Malebranche, prêtre de l'Oratoire, par un ancien officier\n",
      "author_name : Naigeon, Jacques-André\n",
      "stated_publication_places : None\n",
      "stated_publication_years : None\n",
      "\n",
      "10/10 positive, 37/10 negative\n",
      "Do these records refer to the same thing?\n",
      "(y)es / (n)o / (u)nsure / (f)inished / (p)revious\n"
     ]
    },
    {
     "name": "stdout",
     "output_type": "stream",
     "text": [
      "n\n"
     ]
    },
    {
     "name": "stderr",
     "output_type": "stream",
     "text": [
      "full_book_title : Opuscula pathologica partim recusa partim inedita\n",
      "author_name : Haller, Albrecht [von]\n",
      "stated_publication_places : None\n",
      "stated_publication_years : None\n",
      "\n",
      "full_book_title : Lettres de feu Mr. de Haller contre M. de Voltaire, traduit de l'allemand par F.L. König  \n",
      "author_name : Haller, Albrecht [von]\n",
      "stated_publication_places : Berne; Lausanne\n",
      "stated_publication_years : 1780\n",
      "\n",
      "10/10 positive, 38/10 negative\n",
      "Do these records refer to the same thing?\n",
      "(y)es / (n)o / (u)nsure / (f)inished / (p)revious\n"
     ]
    },
    {
     "name": "stdout",
     "output_type": "stream",
     "text": [
      "n\n"
     ]
    },
    {
     "name": "stderr",
     "output_type": "stream",
     "text": [
      "full_book_title : Heures nouvelles\n",
      "author_name : None\n",
      "stated_publication_places : Bruyères\n",
      "stated_publication_years : 1779\n",
      "\n",
      "full_book_title : Heures nouvelles\n",
      "author_name : None\n",
      "stated_publication_places : Nîmes\n",
      "stated_publication_years : 1784\n",
      "\n",
      "10/10 positive, 39/10 negative\n",
      "Do these records refer to the same thing?\n",
      "(y)es / (n)o / (u)nsure / (f)inished / (p)revious\n"
     ]
    },
    {
     "name": "stdout",
     "output_type": "stream",
     "text": [
      "y\n"
     ]
    },
    {
     "name": "stderr",
     "output_type": "stream",
     "text": [
      "full_book_title : Avis au peuple sur sa santé\n",
      "author_name : Tissot, Samuel Auguste André David\n",
      "stated_publication_places : None\n",
      "stated_publication_years : None\n",
      "\n",
      "full_book_title : Onanisme (l') par M. Tissot\n",
      "author_name : Tissot, Samuel Auguste André David\n",
      "stated_publication_places : Lausanne\n",
      "stated_publication_years : 1773\n",
      "\n",
      "11/10 positive, 39/10 negative\n",
      "Do these records refer to the same thing?\n",
      "(y)es / (n)o / (u)nsure / (f)inished / (p)revious\n"
     ]
    },
    {
     "name": "stdout",
     "output_type": "stream",
     "text": [
      "n\n"
     ]
    },
    {
     "name": "stderr",
     "output_type": "stream",
     "text": [
      "INFO:dedupe.training:Final predicate set:\n",
      "INFO:dedupe.training:(TfidfNGramCanopyPredicate: (0.8, author_name), TfidfTextCanopyPredicate: (0.8, author_name))\n",
      "INFO:dedupe.training:(SimplePredicate: (commonThreeTokens, full_book_title), SimplePredicate: (sameSevenCharStartPredicate, full_book_title))\n",
      "INFO:dedupe.training:(SimplePredicate: (wholeFieldPredicate, full_book_title), TfidfTextCanopyPredicate: (0.8, full_book_title))\n",
      "full_book_title : Amours (les) de Zeokinizul roi des Kofirans. Ouvrage traduit de l'arabe du voyageur Krinelbol\n",
      "author_name : Crébillon, Claude Prosper Jolyot de\n",
      "stated_publication_places : Constantinople\n",
      "stated_publication_years : 1779\n",
      "\n",
      "full_book_title : Lettres de Mde de Ninon Lenclos\n",
      "author_name : Crébillon, Claude Prosper Jolyot de\n",
      "stated_publication_places : Amsterdam\n",
      "stated_publication_years : 1770\n",
      "\n",
      "11/10 positive, 40/10 negative\n",
      "Do these records refer to the same thing?\n",
      "(y)es / (n)o / (u)nsure / (f)inished / (p)revious\n"
     ]
    },
    {
     "name": "stdout",
     "output_type": "stream",
     "text": [
      "n\n"
     ]
    },
    {
     "name": "stderr",
     "output_type": "stream",
     "text": [
      "full_book_title : Philosophe (le) indien, ou L'art de vivre heureux, dans la societé\n",
      "author_name : Chesterfield, Philip Dormer [4th Earl of]\n",
      "stated_publication_places : None\n",
      "stated_publication_years : None\n",
      "\n",
      "full_book_title : Monde (le), par Adam Fitz-Adam: ou feuilles périodiques sur les moeurs du tems, traduites de l'anglois\n",
      "author_name : Chesterfield, Philip Dormer [4th Earl of]\n",
      "stated_publication_places : Leiden\n",
      "stated_publication_years : 1756\n",
      "\n",
      "11/10 positive, 41/10 negative\n",
      "Do these records refer to the same thing?\n",
      "(y)es / (n)o / (u)nsure / (f)inished / (p)revious\n"
     ]
    },
    {
     "name": "stdout",
     "output_type": "stream",
     "text": [
      "n\n"
     ]
    },
    {
     "name": "stderr",
     "output_type": "stream",
     "text": [
      "full_book_title : Ange (l') conducteur dans la dévotion chrétienne\n",
      "author_name : Coret, Jacques\n",
      "stated_publication_places : Vezoul [Vesoul]\n",
      "stated_publication_years : 1782\n",
      "\n",
      "full_book_title : Nouvel Ange conducteur des exercices de Piété\n",
      "author_name : Coret, Jacques\n",
      "stated_publication_places : Liège\n",
      "stated_publication_years : 1771\n",
      "\n",
      "11/10 positive, 42/10 negative\n",
      "Do these records refer to the same thing?\n",
      "(y)es / (n)o / (u)nsure / (f)inished / (p)revious\n"
     ]
    },
    {
     "name": "stdout",
     "output_type": "stream",
     "text": [
      "y\n"
     ]
    },
    {
     "name": "stderr",
     "output_type": "stream",
     "text": [
      "full_book_title : Soliloques (les) de St Augustin\n",
      "author_name : Augustine, Saint Bishop of Hippo\n",
      "stated_publication_places : Paris\n",
      "stated_publication_years : 1756\n",
      "\n",
      "full_book_title : Nouvelles Lettres de Saint Augustin\n",
      "author_name : Augustine, Saint Bishop of Hippo\n",
      "stated_publication_places : None\n",
      "stated_publication_years : None\n",
      "\n",
      "12/10 positive, 42/10 negative\n",
      "Do these records refer to the same thing?\n",
      "(y)es / (n)o / (u)nsure / (f)inished / (p)revious\n"
     ]
    },
    {
     "name": "stdout",
     "output_type": "stream",
     "text": [
      "n\n"
     ]
    },
    {
     "name": "stderr",
     "output_type": "stream",
     "text": [
      "full_book_title : Conduite pour passer saintement les fetes et les Octaves de la Pentecoste, du Saint Sacrement et de l’assomption par le P. Avrillon Religieux Minime\n",
      "author_name : Avrillon, R. B.\n",
      "stated_publication_places : Paris\n",
      "stated_publication_years : 1771\n",
      "\n",
      "full_book_title : Conduite pour l'avent et pour le carême par le pere Avrillon\n",
      "author_name : Avrillon, R. B.\n",
      "stated_publication_places : Paris\n",
      "stated_publication_years : 1773\n",
      "\n",
      "12/10 positive, 43/10 negative\n",
      "Do these records refer to the same thing?\n",
      "(y)es / (n)o / (u)nsure / (f)inished / (p)revious\n"
     ]
    },
    {
     "name": "stdout",
     "output_type": "stream",
     "text": [
      "n\n"
     ]
    },
    {
     "name": "stderr",
     "output_type": "stream",
     "text": [
      "full_book_title : Evangile de Saint Luc et de Saint Mathieu\n",
      "author_name : [Bible]\n",
      "stated_publication_places : Douai\n",
      "stated_publication_years : 1178\n",
      "\n",
      "full_book_title : Bible (la) de Lyon\n",
      "author_name : [Bible]\n",
      "stated_publication_places : Lyon\n",
      "stated_publication_years : None\n",
      "\n",
      "12/10 positive, 44/10 negative\n",
      "Do these records refer to the same thing?\n",
      "(y)es / (n)o / (u)nsure / (f)inished / (p)revious\n"
     ]
    },
    {
     "name": "stdout",
     "output_type": "stream",
     "text": [
      "n\n"
     ]
    },
    {
     "name": "stderr",
     "output_type": "stream",
     "text": [
      "full_book_title : Dictionnaire raisonné de physique\n",
      "author_name : Brisson, Mathurin-Jacques\n",
      "stated_publication_places : None\n",
      "stated_publication_years : None\n",
      "\n",
      "full_book_title : Ornithologie, ou Methode contenant la division des Oiseaux en ordres, sections, genres, especes & varie?te?s\n",
      "author_name : Brisson, Mathurin-Jacques\n",
      "stated_publication_places : Paris\n",
      "stated_publication_years : 1759\n",
      "\n",
      "12/10 positive, 45/10 negative\n",
      "Do these records refer to the same thing?\n",
      "(y)es / (n)o / (u)nsure / (f)inished / (p)revious\n"
     ]
    },
    {
     "name": "stdout",
     "output_type": "stream",
     "text": [
      "n\n"
     ]
    },
    {
     "name": "stderr",
     "output_type": "stream",
     "text": [
      "full_book_title : Pensez-y bien\n",
      "author_name : Baudrand, Barthélemi\n",
      "stated_publication_places : Nancy\n",
      "stated_publication_years : 1782\n",
      "\n",
      "full_book_title : Ame (l') sur le Calvaire, L’ame embrassée, Entretiens avec Jesus Christ par l’auteur de l’ame elevée à Dieu\n",
      "author_name : Baudrand, Barthélemi\n",
      "stated_publication_places : Lyon\n",
      "stated_publication_years : 1776\n",
      "\n",
      "12/10 positive, 46/10 negative\n",
      "Do these records refer to the same thing?\n",
      "(y)es / (n)o / (u)nsure / (f)inished / (p)revious\n"
     ]
    },
    {
     "name": "stdout",
     "output_type": "stream",
     "text": [
      "n\n"
     ]
    },
    {
     "name": "stderr",
     "output_type": "stream",
     "text": [
      "full_book_title : Livres d'assortissement / miscellaneous books <zspbk0010774>\n",
      "author_name : Linguet, Simon Nicholas Henri\n",
      "stated_publication_places : None\n",
      "stated_publication_years : None\n",
      "\n",
      "full_book_title : Livres d'assortissement / miscellaneous books <zspbk0010774>\n",
      "author_name : No Author Identifable\n",
      "stated_publication_places : None\n",
      "stated_publication_years : None\n",
      "\n",
      "12/10 positive, 47/10 negative\n",
      "Do these records refer to the same thing?\n",
      "(y)es / (n)o / (u)nsure / (f)inished / (p)revious\n"
     ]
    },
    {
     "name": "stdout",
     "output_type": "stream",
     "text": [
      "y\n"
     ]
    },
    {
     "name": "stderr",
     "output_type": "stream",
     "text": [
      "full_book_title : Imitation de Jesus Christ par Le pere Gonnelieu\n",
      "author_name : Thomas à Kempis\n",
      "stated_publication_places : Paris\n",
      "stated_publication_years : None\n",
      "\n",
      "full_book_title : Imitation (l') de Jésus-Christ\n",
      "author_name : Thomas à Kempis\n",
      "stated_publication_places : None\n",
      "stated_publication_years : None\n",
      "\n",
      "13/10 positive, 47/10 negative\n",
      "Do these records refer to the same thing?\n",
      "(y)es / (n)o / (u)nsure / (f)inished / (p)revious\n"
     ]
    },
    {
     "name": "stdout",
     "output_type": "stream",
     "text": [
      "y\n"
     ]
    },
    {
     "name": "stderr",
     "output_type": "stream",
     "text": [
      "full_book_title : Combat spirituel\n",
      "author_name : Brignon, Jean\n",
      "stated_publication_places : Rouen\n",
      "stated_publication_years : 1783\n",
      "\n",
      "full_book_title : Combat spirituel\n",
      "author_name : Scupoli, Lorenzo\n",
      "stated_publication_places : Bruyères\n",
      "stated_publication_years : 1789\n",
      "\n",
      "14/10 positive, 47/10 negative\n",
      "Do these records refer to the same thing?\n",
      "(y)es / (n)o / (u)nsure / (f)inished / (p)revious\n"
     ]
    },
    {
     "name": "stdout",
     "output_type": "stream",
     "text": [
      "y\n"
     ]
    },
    {
     "name": "stderr",
     "output_type": "stream",
     "text": [
      "full_book_title : Opera omnia\n",
      "author_name : Thomas à Kempis\n",
      "stated_publication_places : None\n",
      "stated_publication_years : None\n",
      "\n",
      "full_book_title : Imitation de Jesus Christ derniere edition\n",
      "author_name : Thomas à Kempis\n",
      "stated_publication_places : Paris\n",
      "stated_publication_years : 1776\n",
      "\n",
      "15/10 positive, 47/10 negative\n",
      "Do these records refer to the same thing?\n",
      "(y)es / (n)o / (u)nsure / (f)inished / (p)revious\n"
     ]
    },
    {
     "name": "stdout",
     "output_type": "stream",
     "text": [
      "n\n"
     ]
    },
    {
     "name": "stderr",
     "output_type": "stream",
     "text": [
      "INFO:dedupe.training:Final predicate set:\n",
      "INFO:dedupe.training:(TfidfNGramCanopyPredicate: (0.8, author_name), TfidfTextCanopyPredicate: (0.8, author_name))\n",
      "INFO:dedupe.training:(SimplePredicate: (wholeFieldPredicate, full_book_title), TfidfTextCanopyPredicate: (0.6, full_book_title))\n",
      "INFO:dedupe.training:(SimplePredicate: (commonThreeTokens, full_book_title), SimplePredicate: (sameSevenCharStartPredicate, full_book_title))\n",
      "full_book_title : Angola, histoire Indienne\n",
      "author_name : Rochette La Morlie?re, Jacques, chevalier de\n",
      "stated_publication_places : None\n",
      "stated_publication_years : None\n",
      "\n",
      "full_book_title : Angola, histoire indienne <spbk0000105>\n",
      "author_name : Rochette de La Morlière, Charles-Jacques-Louis-Auguste;\n",
      "stated_publication_places : None\n",
      "stated_publication_years : 1749\n",
      "\n",
      "15/10 positive, 48/10 negative\n",
      "Do these records refer to the same thing?\n",
      "(y)es / (n)o / (u)nsure / (f)inished / (p)revious\n"
     ]
    },
    {
     "name": "stdout",
     "output_type": "stream",
     "text": [
      "y\n"
     ]
    },
    {
     "name": "stderr",
     "output_type": "stream",
     "text": [
      "full_book_title : Nouveau (le) Testament de Notre Seigneur Jesus Christ\n",
      "author_name : [Bible]\n",
      "stated_publication_places : Paris\n",
      "stated_publication_years : None\n",
      "\n",
      "full_book_title : Sainte Bible traduite en françois par Le Maistre de Sacy\n",
      "author_name : [Bible]\n",
      "stated_publication_places : Paris\n",
      "stated_publication_years : 1776\n",
      "\n",
      "16/10 positive, 48/10 negative\n",
      "Do these records refer to the same thing?\n",
      "(y)es / (n)o / (u)nsure / (f)inished / (p)revious\n"
     ]
    },
    {
     "name": "stdout",
     "output_type": "stream",
     "text": [
      "n\n"
     ]
    },
    {
     "name": "stderr",
     "output_type": "stream",
     "text": [
      "INFO:dedupe.training:Final predicate set:\n",
      "INFO:dedupe.training:(SimplePredicate: (sameSevenCharStartPredicate, full_book_title), TfidfTextCanopyPredicate: (0.4, full_book_title))\n",
      "INFO:dedupe.training:(TfidfNGramCanopyPredicate: (0.8, author_name), TfidfTextCanopyPredicate: (0.8, author_name))\n",
      "INFO:dedupe.training:(SimplePredicate: (commonThreeTokens, full_book_title), SimplePredicate: (sameSevenCharStartPredicate, full_book_title))\n",
      "full_book_title : Defense de la religion tant naturelle que re?ve?le?e contre les infide?les et les incre?dules\n",
      "author_name : Burnet, Gilbert\n",
      "stated_publication_places : None\n",
      "stated_publication_years : None\n",
      "\n",
      "full_book_title : Defense des propheties de la religion chrétienne\n",
      "author_name : Baltus, Jean-François\n",
      "stated_publication_places : Paris\n",
      "stated_publication_years : 1737\n",
      "\n",
      "16/10 positive, 49/10 negative\n",
      "Do these records refer to the same thing?\n",
      "(y)es / (n)o / (u)nsure / (f)inished / (p)revious\n"
     ]
    },
    {
     "name": "stdout",
     "output_type": "stream",
     "text": [
      "n\n"
     ]
    },
    {
     "name": "stderr",
     "output_type": "stream",
     "text": [
      "full_book_title : Anatomie de Winslow\n",
      "author_name : Winslow, Jakob Benigus\n",
      "stated_publication_places : None\n",
      "stated_publication_years : None\n",
      "\n",
      "full_book_title : Exposition anatomique de la structure du corps humain, par M. Winslow, Docteur Régent de la Faculté de Médecine de Paris etc.  Nouvelle edition faitte sur un exemplaire corrigé et augmenté par l’auteur à la quelle on a joint des nouvelles figures & tables qui en facilitent l’usage; et la vie de l’auteur\n",
      "author_name : Winslow, Jakob Benigus\n",
      "stated_publication_places : Paris\n",
      "stated_publication_years : 1775\n",
      "\n",
      "16/10 positive, 50/10 negative\n",
      "Do these records refer to the same thing?\n",
      "(y)es / (n)o / (u)nsure / (f)inished / (p)revious\n"
     ]
    },
    {
     "name": "stdout",
     "output_type": "stream",
     "text": [
      "y\n"
     ]
    },
    {
     "name": "stderr",
     "output_type": "stream",
     "text": [
      "full_book_title : Caracteres (les) de Theophraste nouvelle edition\n",
      "author_name : La Bruyère, Jean [de]\n",
      "stated_publication_places : Amsterdam\n",
      "stated_publication_years : 1769\n",
      "\n",
      "full_book_title : Caracteres (les) de Théophraste avec les Caracteres et les moeurs de le siecle par M. De la Bruyere et de Ses Caracteres par M. Coste\n",
      "author_name : La Bruyère, Jean [de]\n",
      "stated_publication_places : Amsterdam\n",
      "stated_publication_years : 1754\n",
      "\n",
      "17/10 positive, 50/10 negative\n",
      "Do these records refer to the same thing?\n",
      "(y)es / (n)o / (u)nsure / (f)inished / (p)revious\n"
     ]
    },
    {
     "name": "stdout",
     "output_type": "stream",
     "text": [
      "y\n"
     ]
    },
    {
     "name": "stderr",
     "output_type": "stream",
     "text": [
      "full_book_title : Instructions pour les Jeunes dames qui entrent dans le monde se marient, leurs devoirs dans cet etat et envers leurs enfans; pour servir de suite au magasin des adolescentes, par Made. le Prince de Beaumont\n",
      "author_name : Le Prince de Beaumont, Marie\n",
      "stated_publication_places : None\n",
      "stated_publication_years : 1774\n",
      "\n",
      "full_book_title : Mentor (le) moderne, ou instructions pour les garçons et pour ceux qui les élevent\n",
      "author_name : Le Prince de Beaumont, Marie\n",
      "stated_publication_places : Paris\n",
      "stated_publication_years : 1773\n",
      "\n",
      "18/10 positive, 50/10 negative\n",
      "Do these records refer to the same thing?\n",
      "(y)es / (n)o / (u)nsure / (f)inished / (p)revious\n"
     ]
    },
    {
     "name": "stdout",
     "output_type": "stream",
     "text": [
      "n\n"
     ]
    },
    {
     "name": "stderr",
     "output_type": "stream",
     "text": [
      "full_book_title : Histoire du parlement de Paris\n",
      "author_name : Voltaire, François Marie Arouet;\n",
      "stated_publication_places : Amsterdam\n",
      "stated_publication_years : None\n",
      "\n",
      "full_book_title : Charlot, ou la comtesse de Givri\n",
      "author_name : Voltaire, François Marie Arouet\n",
      "stated_publication_places : Geneve; Paris\n",
      "stated_publication_years : None\n",
      "\n",
      "18/10 positive, 51/10 negative\n",
      "Do these records refer to the same thing?\n",
      "(y)es / (n)o / (u)nsure / (f)inished / (p)revious\n"
     ]
    },
    {
     "name": "stdout",
     "output_type": "stream",
     "text": [
      "n\n"
     ]
    },
    {
     "name": "stderr",
     "output_type": "stream",
     "text": [
      "full_book_title : Genie (Le) de Montesquieu\n",
      "author_name : Montesquieu, Charles Louis de Secondat\n",
      "stated_publication_places : Amsterdam\n",
      "stated_publication_years : 1760\n",
      "\n",
      "full_book_title : Montesquieu [unspecified work]\n",
      "author_name : Montesquieu, Charles Louis de Secondat\n",
      "stated_publication_places : None\n",
      "stated_publication_years : None\n",
      "\n",
      "18/10 positive, 52/10 negative\n",
      "Do these records refer to the same thing?\n",
      "(y)es / (n)o / (u)nsure / (f)inished / (p)revious\n"
     ]
    },
    {
     "name": "stdout",
     "output_type": "stream",
     "text": [
      "n\n"
     ]
    },
    {
     "name": "stderr",
     "output_type": "stream",
     "text": [
      "full_book_title : Pharmacien (Le) moderne, ou Nouvelle manière de préparer les drogues\n",
      "author_name : Eidous, Marc-Antoine\n",
      "stated_publication_places : Paris\n",
      "stated_publication_years : 1749-1750\n",
      "\n",
      "full_book_title : Italiens (les)\n",
      "author_name : Eidous, Marc-Antoine\n",
      "stated_publication_places : None\n",
      "stated_publication_years : None\n",
      "\n",
      "18/10 positive, 53/10 negative\n",
      "Do these records refer to the same thing?\n",
      "(y)es / (n)o / (u)nsure / (f)inished / (p)revious\n"
     ]
    },
    {
     "name": "stdout",
     "output_type": "stream",
     "text": [
      "n\n"
     ]
    },
    {
     "name": "stderr",
     "output_type": "stream",
     "text": [
      "full_book_title : Principes generaux de la Grammaire par M. R.  Dixieme Edition\n",
      "author_name : Restaut, Pierre\n",
      "stated_publication_places : Paris\n",
      "stated_publication_years : 1773\n",
      "\n",
      "full_book_title : Abregé des principes de la grammaire françoise par M. Restaut Nouvelle edition augmentée des principes généraux de l’ortographe françoise\n",
      "author_name : Restaut, Pierre\n",
      "stated_publication_places : Paris\n",
      "stated_publication_years : 1776\n",
      "\n",
      "18/10 positive, 54/10 negative\n",
      "Do these records refer to the same thing?\n",
      "(y)es / (n)o / (u)nsure / (f)inished / (p)revious\n"
     ]
    },
    {
     "name": "stdout",
     "output_type": "stream",
     "text": [
      "n\n"
     ]
    },
    {
     "name": "stderr",
     "output_type": "stream",
     "text": [
      "full_book_title : Recueil de pièces fugitives en prose et en vers, accompagnées de notes critiques et impartiales par M. de V.\n",
      "author_name : Voltaire, François Marie Arouet\n",
      "stated_publication_places : None\n",
      "stated_publication_years : None\n",
      "\n",
      "full_book_title : Lettre d'un ecclésiastique sur le prétendu rétablissement des jésuites dans Paris\n",
      "author_name : Voltaire, François Marie Arouet\n",
      "stated_publication_places : None\n",
      "stated_publication_years : None\n",
      "\n",
      "18/10 positive, 55/10 negative\n",
      "Do these records refer to the same thing?\n",
      "(y)es / (n)o / (u)nsure / (f)inished / (p)revious\n"
     ]
    },
    {
     "name": "stdout",
     "output_type": "stream",
     "text": [
      "n\n"
     ]
    },
    {
     "name": "stderr",
     "output_type": "stream",
     "text": [
      "full_book_title : Imitation de Jésus Christ\n",
      "author_name : Thomas à Kempis\n",
      "stated_publication_places : Saint-Malo\n",
      "stated_publication_years : 1779\n",
      "\n",
      "full_book_title : De l'imitation de jesus christ par D. Morel\n",
      "author_name : Thomas à Kempis\n",
      "stated_publication_places : Paris\n",
      "stated_publication_years : 1772\n",
      "\n",
      "18/10 positive, 56/10 negative\n",
      "Do these records refer to the same thing?\n",
      "(y)es / (n)o / (u)nsure / (f)inished / (p)revious\n"
     ]
    },
    {
     "name": "stdout",
     "output_type": "stream",
     "text": [
      "y\n"
     ]
    },
    {
     "name": "stderr",
     "output_type": "stream",
     "text": [
      "full_book_title : Collection complete des oeuvres de Gesner\n",
      "author_name : Gessner, Salomon\n",
      "stated_publication_places : Lyon\n",
      "stated_publication_years : 1786\n",
      "\n",
      "full_book_title : Collection complète de tous les ouvrages pour et et contre M. Necker avec des notes critiques, politiques et secrètes, le tout par ordre chronologique\n",
      "author_name : Turgot, Anne Robert Jacques\n",
      "stated_publication_places : Utrecht\n",
      "stated_publication_years : 1782\n",
      "\n",
      "19/10 positive, 56/10 negative\n",
      "Do these records refer to the same thing?\n",
      "(y)es / (n)o / (u)nsure / (f)inished / (p)revious\n"
     ]
    },
    {
     "name": "stdout",
     "output_type": "stream",
     "text": [
      "n\n"
     ]
    },
    {
     "name": "stderr",
     "output_type": "stream",
     "text": [
      "full_book_title : Ami (l') des enfants\n",
      "author_name : Reyre, Joseph\n",
      "stated_publication_places : Rouen\n",
      "stated_publication_years : 1785\n",
      "\n",
      "full_book_title : Instructions sur les principales vérités de la religion et sur les principaux devoirs du christianisme, adressées par Monseigneur l’Illustrissime et Révérendissime Evêque, comte de Toul, Prince du S. Empire, au clergé Séculier et aux Fideles de son diocese\n",
      "author_name : Humbert, Pierre Hubert\n",
      "stated_publication_places : Rouen\n",
      "stated_publication_years : 1786\n",
      "\n",
      "19/10 positive, 57/10 negative\n",
      "Do these records refer to the same thing?\n",
      "(y)es / (n)o / (u)nsure / (f)inished / (p)revious\n"
     ]
    },
    {
     "name": "stdout",
     "output_type": "stream",
     "text": [
      "n\n"
     ]
    },
    {
     "name": "stderr",
     "output_type": "stream",
     "text": [
      "full_book_title : Sainte Bible (la), qui contient le Vieux et le Nouveau Testament\n",
      "author_name : [Bible]\n",
      "stated_publication_places : Neuchâtel\n",
      "stated_publication_years : 1779\n",
      "\n",
      "full_book_title : Sainte Bible (la) en latin et en françois: avec des notes litterales, critiques, et historiques, des prefaces et des dissertations, tirées du commentaire de Dom Augustin Calmet..., et de M. l'Abbé de Vence, & des auteurs les plus célèbres; pour faciliter l'intelligence de l'Ecriture Sainte\n",
      "author_name : [Bible]\n",
      "stated_publication_places : Paris\n",
      "stated_publication_years : 1748-1750\n",
      "\n",
      "19/10 positive, 58/10 negative\n",
      "Do these records refer to the same thing?\n",
      "(y)es / (n)o / (u)nsure / (f)inished / (p)revious\n"
     ]
    },
    {
     "name": "stdout",
     "output_type": "stream",
     "text": [
      "y\n"
     ]
    },
    {
     "name": "stderr",
     "output_type": "stream",
     "text": [
      "full_book_title : Sainte Bible (la), qui contient le Vieux et le Nouveau Testament: revu et corrigé sur le texte original, par les pasteurs et professeurs de l'Eglise de Genève, avec les argumens et les réflexions sur les chapitres / par J.F. Ostervald\n",
      "author_name : [Bible]\n",
      "stated_publication_places : Bienne; Neuchâtel\n",
      "stated_publication_years : 1770-1771\n",
      "\n",
      "full_book_title : Nouveau Testament de notre seigneur Jesus Christ traduit selon la vulgate\n",
      "author_name : [Bible]\n",
      "stated_publication_places : None\n",
      "stated_publication_years : None\n",
      "\n",
      "20/10 positive, 58/10 negative\n",
      "Do these records refer to the same thing?\n",
      "(y)es / (n)o / (u)nsure / (f)inished / (p)revious\n"
     ]
    },
    {
     "name": "stdout",
     "output_type": "stream",
     "text": [
      "n\n"
     ]
    },
    {
     "name": "stderr",
     "output_type": "stream",
     "text": [
      "full_book_title : Considérations sur les causes phisiques et morales de la diversité du geenie, des moeurs et du gouvernement des nations: tiré en partie d'un ouvrage anonime; par M. L. Castilhon\n",
      "author_name : Castilhon, Jean-Louis\n",
      "stated_publication_places : Bouillon\n",
      "stated_publication_years : 1769\n",
      "\n",
      "full_book_title : Essais de Philosophie et de morale en partie traduit librement et en partie imite de Plutarque par M. L. Castilhon\n",
      "author_name : Castilhon, Jean-Louis\n",
      "stated_publication_places : Bouillon\n",
      "stated_publication_years : 1770\n",
      "\n",
      "20/10 positive, 59/10 negative\n",
      "Do these records refer to the same thing?\n",
      "(y)es / (n)o / (u)nsure / (f)inished / (p)revious\n"
     ]
    },
    {
     "name": "stdout",
     "output_type": "stream",
     "text": [
      "n\n"
     ]
    },
    {
     "name": "stderr",
     "output_type": "stream",
     "text": [
      "full_book_title : Le Livre des Comptes faits, ou l’on trouve les supputations qui se font par les multiplications pour la valeur de quelque chose que l’on puisse s’imaginer, à telle somme qu’elles puissent monter etc. augmenté du tarif des glaces, par Bareme\n",
      "author_name : Barrême, François Bertrand de\n",
      "stated_publication_places : Paris\n",
      "stated_publication_years : 1770\n",
      "\n",
      "full_book_title : Comptes faits ou tarif général des monnoies\n",
      "author_name : Barrême, François Bertrand de\n",
      "stated_publication_places : Amsterdam\n",
      "stated_publication_years : 1774\n",
      "\n",
      "20/10 positive, 60/10 negative\n",
      "Do these records refer to the same thing?\n",
      "(y)es / (n)o / (u)nsure / (f)inished / (p)revious\n"
     ]
    },
    {
     "name": "stdout",
     "output_type": "stream",
     "text": [
      "f\n"
     ]
    },
    {
     "name": "stderr",
     "output_type": "stream",
     "text": [
      "Finished labeling\n"
     ]
    }
   ],
   "source": [
    "# Cell 2.1: Collecting training data\n",
    "\n",
    "# Running this cell will open an interactive shell in the output below, where you will be\n",
    "# presented with pairs of books, and will be asked to say if they are the same or different.\n",
    "dd.consoleLabel(deduper)"
   ]
  },
  {
   "cell_type": "code",
   "execution_count": 10,
   "metadata": {},
   "outputs": [],
   "source": [
    "# Cell 2.2: A function for training the model with the collected data and saving the results.\n",
    "def run_deduper(deduper, data, settings_file, training_file, recall_weight = 1):\n",
    "    \"\"\"\n",
    "    Given a deduper object and a dataset, this function trains the model and\n",
    "    predicts which records are duplicates.\n",
    "    \n",
    "    params:\n",
    "        deduper: a Dedupe object\n",
    "        data: a dict of table rows/database records\n",
    "        settings_file: a string giving the path where the settings should be written\n",
    "        training_file: a string giving the path where the labelled training examples should be written\n",
    "        recall_weight: a number indicating how much to privilege recall over precision.\n",
    "        \n",
    "    returns:\n",
    "        deduper: the trained Dedupe object\n",
    "        matches: a list of tuples giving record ids of duplicates and confidence scores\n",
    "    \"\"\"\n",
    "    \n",
    "    # Train the model\n",
    "    print(\"Training model...\")\n",
    "    start = time.perf_counter()\n",
    "    deduper.train()\n",
    "    end = time.perf_counter()\n",
    "    print(f\"Training complete. It took {end - start:.3f} seconds.\")\n",
    "    \n",
    "    \n",
    "    print(\"Saving training data and trained parameters...\")\n",
    "    # Save the training examples\n",
    "    with open(training_file, 'w') as tf:\n",
    "        deduper.writeTraining(tf)\n",
    "    \n",
    "    # Save the model parameters\n",
    "    with open(settings_file, 'wb') as sf:\n",
    "        deduper.writeSettings(sf)\n",
    "    print(\"Saved.\")\n",
    "    \n",
    "    # Calculate threshold for matches\n",
    "    print(f\"Computing threshold based on a recall weighting of {recall_weight}.\")\n",
    "    start = time.perf_counter()\n",
    "    threshold = deduper.threshold(data, recall_weight = 1)\n",
    "    end = time.perf_counter()\n",
    "    print(f\"Computation complete. Threshold = {threshold}. It took {end - start:.3f} seconds.\")\n",
    "    \n",
    "    # Compute the matches\n",
    "    print(\"Clustering...\")\n",
    "    start = time.perf_counter()\n",
    "    matches = deduper.match(data, threshold)\n",
    "    end = time.perf_counter()\n",
    "    print(f\"Clustering complete. {len(matches)} clusters found. It took {end - start:.3f} seconds.\")\n",
    "    \n",
    "    return deduper, matches"
   ]
  },
  {
   "cell_type": "code",
   "execution_count": 11,
   "metadata": {},
   "outputs": [
    {
     "name": "stdout",
     "output_type": "stream",
     "text": [
      "Training model...\n"
     ]
    },
    {
     "name": "stderr",
     "output_type": "stream",
     "text": [
      "INFO:rlr.crossvalidation:using cross validation to find optimum alpha...\n",
      "INFO:rlr.crossvalidation:optimum alpha: 0.000010, score 0.5242863079293838\n",
      "INFO:dedupe.training:Final predicate set:\n",
      "INFO:dedupe.training:(SimplePredicate: (sameSevenCharStartPredicate, author_name), TfidfNGramCanopyPredicate: (0.6, author_name))\n",
      "INFO:dedupe.training:(SimplePredicate: (wholeFieldPredicate, full_book_title), TfidfTextCanopyPredicate: (0.6, full_book_title))\n"
     ]
    },
    {
     "name": "stdout",
     "output_type": "stream",
     "text": [
      "Training complete. It took 1.028 seconds.\n"
     ]
    },
    {
     "name": "stderr",
     "output_type": "stream",
     "text": [
      "INFO:dedupe.canopy_index:Removing stop word ar\n",
      "INFO:dedupe.canopy_index:Removing stop word er\n",
      "INFO:dedupe.canopy_index:Removing stop word ie\n",
      "INFO:dedupe.canopy_index:Removing stop word an\n",
      "INFO:dedupe.canopy_index:Removing stop word  J\n",
      "INFO:dedupe.canopy_index:Removing stop word is\n",
      "INFO:dedupe.canopy_index:Removing stop word e \n",
      "INFO:dedupe.canopy_index:Removing stop word du\n",
      "INFO:dedupe.canopy_index:Removing stop word sur\n",
      "INFO:dedupe.canopy_index:Removing stop word de\n",
      "INFO:dedupe.canopy_index:Removing stop word par\n",
      "INFO:dedupe.canopy_index:Removing stop word le\n",
      "INFO:dedupe.canopy_index:Removing stop word des\n",
      "INFO:dedupe.canopy_index:Removing stop word les\n",
      "INFO:dedupe.canopy_index:Removing stop word et\n",
      "INFO:dedupe.canopy_index:Removing stop word ou\n",
      "INFO:dedupe.canopy_index:Removing stop word M\n",
      "INFO:dedupe.blocking:10000, 2.1993132 seconds\n",
      "WARNING:dedupe.backport:Dedupe does not currently support multiprocessing on Windows\n",
      "INFO:dedupe.api:Maximum expected recall and precision\n",
      "INFO:dedupe.api:recall: 0.796\n",
      "INFO:dedupe.api:precision: 0.726\n",
      "INFO:dedupe.api:With threshold: 0.381\n"
     ]
    },
    {
     "name": "stdout",
     "output_type": "stream",
     "text": [
      "Clustering...\n"
     ]
    },
    {
     "name": "stderr",
     "output_type": "stream",
     "text": [
      "INFO:dedupe.canopy_index:Removing stop word ar\n",
      "INFO:dedupe.canopy_index:Removing stop word er\n",
      "INFO:dedupe.canopy_index:Removing stop word ie\n",
      "INFO:dedupe.canopy_index:Removing stop word an\n",
      "INFO:dedupe.canopy_index:Removing stop word  J\n",
      "INFO:dedupe.canopy_index:Removing stop word is\n",
      "INFO:dedupe.canopy_index:Removing stop word e \n",
      "INFO:dedupe.canopy_index:Removing stop word du\n",
      "INFO:dedupe.canopy_index:Removing stop word sur\n",
      "INFO:dedupe.canopy_index:Removing stop word de\n",
      "INFO:dedupe.canopy_index:Removing stop word par\n",
      "INFO:dedupe.canopy_index:Removing stop word le\n",
      "INFO:dedupe.canopy_index:Removing stop word des\n",
      "INFO:dedupe.canopy_index:Removing stop word les\n",
      "INFO:dedupe.canopy_index:Removing stop word et\n",
      "INFO:dedupe.canopy_index:Removing stop word ou\n",
      "INFO:dedupe.canopy_index:Removing stop word M\n",
      "INFO:dedupe.blocking:10000, 2.0055242 seconds\n"
     ]
    },
    {
     "name": "stdout",
     "output_type": "stream",
     "text": [
      "Clustering complete. 2807 clusters found. It took 39.278 seconds.\n"
     ]
    }
   ],
   "source": [
    "# Cell 2.3: Run the model, check out the results.\n",
    "deduper, matches = run_deduper(deduper, data, settings_file, training_file, recall_weight = 1)"
   ]
  },
  {
   "cell_type": "code",
   "execution_count": 130,
   "metadata": {},
   "outputs": [],
   "source": [
    "# Cell 2.4: Adds cluster codes and confidence scores back to original data frame\n",
    "def save_clusters(matches, data_frame, output_file):\n",
    "    \"\"\"\n",
    "    Given a list of cluster tuples from a Dedupe object, and the original data frame\n",
    "    on which the model was trained, this function outputs a data frame and saves a csv\n",
    "    of the cluster assignments for each record/row.\n",
    "    \n",
    "    depends:\n",
    "        pandas\n",
    "        dedupe\n",
    "    \n",
    "    params:\n",
    "        matches: a list of tuples, returned by Dedupe.matches()\n",
    "        data_frame: the original data frame on which the model was trained.\n",
    "        output_file: a string; the path where the csv will be written\n",
    "    \n",
    "    returns:\n",
    "        data_frame: the original data frame will additional information from the model\n",
    "    \"\"\"\n",
    "    \n",
    "    # Add new columns to data frame\n",
    "    data_frame['cluster'] = np.nan\n",
    "    data_frame['confidence'] = np.nan\n",
    "    \n",
    "    # Loop through matches, update relevant rows\n",
    "    for counter, match in enumerate(matches):\n",
    "        data_frame.loc[match[0], 'cluster'] = int(counter)\n",
    "        data_frame.loc[match[0], 'confidence'] = match[1]\n",
    "    \n",
    "    # Write csv\n",
    "    with open(output_file, 'w') as out:\n",
    "        data_frame.to_csv(out)\n",
    "    \n",
    "    return data_frame"
   ]
  },
  {
   "cell_type": "code",
   "execution_count": 131,
   "metadata": {},
   "outputs": [],
   "source": [
    "# Cell 2.5. Invoke new function to update and export the results.\n",
    "data_frame_clustered = save_clusters(matches, data_frame, output_file)"
   ]
  },
  {
   "cell_type": "code",
   "execution_count": 134,
   "metadata": {},
   "outputs": [
    {
     "data": {
      "text/html": [
       "<div>\n",
       "<style scoped>\n",
       "    .dataframe tbody tr th:only-of-type {\n",
       "        vertical-align: middle;\n",
       "    }\n",
       "\n",
       "    .dataframe tbody tr th {\n",
       "        vertical-align: top;\n",
       "    }\n",
       "\n",
       "    .dataframe thead th {\n",
       "        text-align: right;\n",
       "    }\n",
       "</style>\n",
       "<table border=\"1\" class=\"dataframe\">\n",
       "  <thead>\n",
       "    <tr style=\"text-align: right;\">\n",
       "      <th></th>\n",
       "      <th>ID</th>\n",
       "      <th>UUID</th>\n",
       "      <th>super_book_code</th>\n",
       "      <th>full_book_title</th>\n",
       "      <th>author_code</th>\n",
       "      <th>author_name</th>\n",
       "      <th>stated_publication_places</th>\n",
       "      <th>stated_publication_years</th>\n",
       "      <th>cluster</th>\n",
       "      <th>confidence</th>\n",
       "    </tr>\n",
       "  </thead>\n",
       "  <tbody>\n",
       "    <tr>\n",
       "      <th>4059</th>\n",
       "      <td>None</td>\n",
       "      <td>None</td>\n",
       "      <td>spbk0000419</td>\n",
       "      <td>Contes très mogols, enrichis de notes, avis, a...</td>\n",
       "      <td>au0000801</td>\n",
       "      <td>Saint-Just, Simon-Pierre Mérard [de]</td>\n",
       "      <td>None</td>\n",
       "      <td>None</td>\n",
       "      <td>1038.0</td>\n",
       "      <td>0.787093</td>\n",
       "    </tr>\n",
       "    <tr>\n",
       "      <th>10084</th>\n",
       "      <td>None</td>\n",
       "      <td>None</td>\n",
       "      <td>spbk0000419</td>\n",
       "      <td>Contes très mogols</td>\n",
       "      <td>au0000801</td>\n",
       "      <td>Saint-Just, Simon-Pierre Mérard [de]</td>\n",
       "      <td>Geneva</td>\n",
       "      <td>1770</td>\n",
       "      <td>1038.0</td>\n",
       "      <td>0.787093</td>\n",
       "    </tr>\n",
       "  </tbody>\n",
       "</table>\n",
       "</div>"
      ],
      "text/plain": [
       "         ID  UUID super_book_code  \\\n",
       "4059   None  None     spbk0000419   \n",
       "10084  None  None     spbk0000419   \n",
       "\n",
       "                                         full_book_title author_code  \\\n",
       "4059   Contes très mogols, enrichis de notes, avis, a...   au0000801   \n",
       "10084                                 Contes très mogols   au0000801   \n",
       "\n",
       "                                author_name stated_publication_places  \\\n",
       "4059   Saint-Just, Simon-Pierre Mérard [de]                      None   \n",
       "10084  Saint-Just, Simon-Pierre Mérard [de]                    Geneva   \n",
       "\n",
       "      stated_publication_years  cluster  confidence  \n",
       "4059                      None   1038.0    0.787093  \n",
       "10084                     1770   1038.0    0.787093  "
      ]
     },
     "execution_count": 134,
     "metadata": {},
     "output_type": "execute_result"
    }
   ],
   "source": [
    "# Cell 2.6. Sanity check. How good are the model's assignments?\n",
    "# Run this cell a few times to look at different random clusters\n",
    "data_frame_clustered[data_frame_clustered['cluster'] == random.randint(0, len(matches) + 1)]"
   ]
  },
  {
   "cell_type": "code",
   "execution_count": 141,
   "metadata": {},
   "outputs": [
    {
     "name": "stdout",
     "output_type": "stream",
     "text": [
      "317 illegal books have been given super_book_codes, of 1921 that lack them.\n"
     ]
    }
   ],
   "source": [
    "# Cell 2.7. How much time have we saved? How many illegal books have been assigned a super_book_code?\n",
    "assigned = data_frame_clustered[\n",
    "    pd.notnull(data_frame_clustered['cluster']) & # which books have been assigned a cluster?\n",
    "    pd.notnull(data_frame_clustered['UUID']) & # only illegal books have UUIDs\n",
    "    pd.isna(data_frame_clustered['super_book_code']) # only interested in books that didn't already have super_book_codes\n",
    "].shape[0]\n",
    "\n",
    "total = data_frame_clustered[\n",
    "    pd.notnull(data_frame_clustered['UUID']) &\n",
    "    pd.isna(data_frame_clustered['super_book_code'])\n",
    "].shape[0]\n",
    "\n",
    "print(f\"{assigned} illegal books have been given super_book_codes, of {total} that lack them.\")"
   ]
  },
  {
   "cell_type": "markdown",
   "metadata": {},
   "source": [
    "## Conclusion\n",
    "\n",
    "Dedupe appears to do a good job in linking the illegal books to super books that are already in the dataset. The question is whether the ~1600 books the algorithm could not cluster are new books that aren't already in our dataset, or if the algorithm has low recall.\n",
    "\n",
    "Manual investigation will be necessary to see if the ~1600 super books are already in the database.\n",
    "\n",
    "It may also be possible to tune the model further, by\n",
    "1. giving it more training data, or\n",
    "2. increasing the `recall_weight` so that the model cares more about finding possible matches than being accurate when it does find them."
   ]
  }
 ],
 "metadata": {
  "kernelspec": {
   "display_name": "Python 3",
   "language": "python",
   "name": "python3"
  },
  "language_info": {
   "codemirror_mode": {
    "name": "ipython",
    "version": 3
   },
   "file_extension": ".py",
   "mimetype": "text/x-python",
   "name": "python",
   "nbconvert_exporter": "python",
   "pygments_lexer": "ipython3",
   "version": "3.7.0"
  }
 },
 "nbformat": 4,
 "nbformat_minor": 2
}
